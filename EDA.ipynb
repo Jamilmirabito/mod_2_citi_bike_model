{
 "cells": [
  {
   "cell_type": "markdown",
   "metadata": {},
   "source": [
    "# Data Analysis"
   ]
  },
  {
   "cell_type": "markdown",
   "metadata": {},
   "source": [
    "Import libraries"
   ]
  },
  {
   "cell_type": "code",
   "execution_count": 207,
   "metadata": {},
   "outputs": [],
   "source": [
    "import pandas as pd\n",
    "import numpy as np\n",
    "\n",
    "import matplotlib.pyplot as plt \n",
    "\n",
    "%matplotlib inline"
   ]
  },
  {
   "cell_type": "markdown",
   "metadata": {},
   "source": [
    "Read in CSV after data cleaning "
   ]
  },
  {
   "cell_type": "code",
   "execution_count": 208,
   "metadata": {},
   "outputs": [],
   "source": [
    "df = pd.read_csv('/Users/markdetiberiis/Desktop/Citibike_data/df_ready_for_eda.csv')"
   ]
  },
  {
   "cell_type": "code",
   "execution_count": 209,
   "metadata": {},
   "outputs": [],
   "source": [
    "pd.set_option(\"display.max_columns\", 100)"
   ]
  },
  {
   "cell_type": "code",
   "execution_count": 123,
   "metadata": {},
   "outputs": [
    {
     "data": {
      "text/html": [
       "<div>\n",
       "<style scoped>\n",
       "    .dataframe tbody tr th:only-of-type {\n",
       "        vertical-align: middle;\n",
       "    }\n",
       "\n",
       "    .dataframe tbody tr th {\n",
       "        vertical-align: top;\n",
       "    }\n",
       "\n",
       "    .dataframe thead th {\n",
       "        text-align: right;\n",
       "    }\n",
       "</style>\n",
       "<table border=\"1\" class=\"dataframe\">\n",
       "  <thead>\n",
       "    <tr style=\"text-align: right;\">\n",
       "      <th></th>\n",
       "      <th>Unnamed: 0</th>\n",
       "      <th>date</th>\n",
       "      <th>station_id</th>\n",
       "      <th>tripduration</th>\n",
       "      <th>time</th>\n",
       "      <th>citi_station_name</th>\n",
       "      <th>citi_station_lat</th>\n",
       "      <th>citi_station_lon</th>\n",
       "      <th>citi_zipcode</th>\n",
       "      <th>PRCP</th>\n",
       "      <th>TAVG</th>\n",
       "      <th>dist_mta</th>\n",
       "      <th>train_name</th>\n",
       "      <th>train_lat</th>\n",
       "      <th>train_lon</th>\n",
       "      <th>landmark</th>\n",
       "      <th>landmark_lat</th>\n",
       "      <th>landmark_lon</th>\n",
       "      <th>dist_landmark</th>\n",
       "      <th>Median</th>\n",
       "      <th>Mean</th>\n",
       "      <th>Pop</th>\n",
       "      <th>rider</th>\n",
       "      <th>day</th>\n",
       "      <th>weekend</th>\n",
       "    </tr>\n",
       "  </thead>\n",
       "  <tbody>\n",
       "    <tr>\n",
       "      <th>0</th>\n",
       "      <td>0</td>\n",
       "      <td>2019-08-01</td>\n",
       "      <td>3192</td>\n",
       "      <td>261.0</td>\n",
       "      <td>00:19:17.4780</td>\n",
       "      <td>Liberty Light Rail</td>\n",
       "      <td>40.711242</td>\n",
       "      <td>-74.055701</td>\n",
       "      <td>7302.0</td>\n",
       "      <td>0.0</td>\n",
       "      <td>79.0</td>\n",
       "      <td>0.022601</td>\n",
       "      <td>Journal Square</td>\n",
       "      <td>40.7327</td>\n",
       "      <td>-74.0628</td>\n",
       "      <td>Paulus Hook Park</td>\n",
       "      <td>40.758</td>\n",
       "      <td>-74.0374</td>\n",
       "      <td>0.050212</td>\n",
       "      <td>76967.0500</td>\n",
       "      <td>98752.3753</td>\n",
       "      <td>31104.0</td>\n",
       "      <td>1</td>\n",
       "      <td>Thursday</td>\n",
       "      <td>0</td>\n",
       "    </tr>\n",
       "    <tr>\n",
       "      <th>1</th>\n",
       "      <td>1</td>\n",
       "      <td>2019-08-01</td>\n",
       "      <td>3186</td>\n",
       "      <td>172.0</td>\n",
       "      <td>00:25:59.1480</td>\n",
       "      <td>Grove St PATH</td>\n",
       "      <td>40.719586</td>\n",
       "      <td>-74.043117</td>\n",
       "      <td>7302.0</td>\n",
       "      <td>0.0</td>\n",
       "      <td>79.0</td>\n",
       "      <td>0.008522</td>\n",
       "      <td>Newport Station</td>\n",
       "      <td>40.7247</td>\n",
       "      <td>-74.0363</td>\n",
       "      <td>Paulus Hook Park</td>\n",
       "      <td>40.758</td>\n",
       "      <td>-74.0374</td>\n",
       "      <td>0.038837</td>\n",
       "      <td>76967.0500</td>\n",
       "      <td>98752.3753</td>\n",
       "      <td>31104.0</td>\n",
       "      <td>1</td>\n",
       "      <td>Thursday</td>\n",
       "      <td>0</td>\n",
       "    </tr>\n",
       "    <tr>\n",
       "      <th>2</th>\n",
       "      <td>2</td>\n",
       "      <td>2019-08-01</td>\n",
       "      <td>3203</td>\n",
       "      <td>525.0</td>\n",
       "      <td>00:32:13.7000</td>\n",
       "      <td>Hamilton Park</td>\n",
       "      <td>40.727596</td>\n",
       "      <td>-74.044247</td>\n",
       "      <td>7302.0</td>\n",
       "      <td>0.0</td>\n",
       "      <td>79.0</td>\n",
       "      <td>0.008459</td>\n",
       "      <td>Newport Station</td>\n",
       "      <td>40.7247</td>\n",
       "      <td>-74.0363</td>\n",
       "      <td>Paulus Hook Park</td>\n",
       "      <td>40.758</td>\n",
       "      <td>-74.0374</td>\n",
       "      <td>0.031166</td>\n",
       "      <td>76967.0500</td>\n",
       "      <td>98752.3753</td>\n",
       "      <td>31104.0</td>\n",
       "      <td>1</td>\n",
       "      <td>Thursday</td>\n",
       "      <td>0</td>\n",
       "    </tr>\n",
       "    <tr>\n",
       "      <th>3</th>\n",
       "      <td>3</td>\n",
       "      <td>2019-08-01</td>\n",
       "      <td>3185</td>\n",
       "      <td>219.0</td>\n",
       "      <td>00:36:15.2730</td>\n",
       "      <td>City Hall</td>\n",
       "      <td>40.717733</td>\n",
       "      <td>-74.043845</td>\n",
       "      <td>7302.0</td>\n",
       "      <td>0.0</td>\n",
       "      <td>79.0</td>\n",
       "      <td>0.010270</td>\n",
       "      <td>Newport Station</td>\n",
       "      <td>40.7247</td>\n",
       "      <td>-74.0363</td>\n",
       "      <td>Paulus Hook Park</td>\n",
       "      <td>40.758</td>\n",
       "      <td>-74.0374</td>\n",
       "      <td>0.040780</td>\n",
       "      <td>76967.0500</td>\n",
       "      <td>98752.3753</td>\n",
       "      <td>31104.0</td>\n",
       "      <td>1</td>\n",
       "      <td>Thursday</td>\n",
       "      <td>0</td>\n",
       "    </tr>\n",
       "    <tr>\n",
       "      <th>4</th>\n",
       "      <td>4</td>\n",
       "      <td>2019-08-01</td>\n",
       "      <td>3272</td>\n",
       "      <td>262.0</td>\n",
       "      <td>00:45:49.3530</td>\n",
       "      <td>Jersey &amp; 3rd</td>\n",
       "      <td>40.723332</td>\n",
       "      <td>-74.045953</td>\n",
       "      <td>7302.0</td>\n",
       "      <td>0.0</td>\n",
       "      <td>79.0</td>\n",
       "      <td>0.009749</td>\n",
       "      <td>Newport Station</td>\n",
       "      <td>40.7247</td>\n",
       "      <td>-74.0363</td>\n",
       "      <td>Paulus Hook Park</td>\n",
       "      <td>40.758</td>\n",
       "      <td>-74.0374</td>\n",
       "      <td>0.035708</td>\n",
       "      <td>76967.0500</td>\n",
       "      <td>98752.3753</td>\n",
       "      <td>31104.0</td>\n",
       "      <td>1</td>\n",
       "      <td>Thursday</td>\n",
       "      <td>0</td>\n",
       "    </tr>\n",
       "    <tr>\n",
       "      <th>...</th>\n",
       "      <td>...</td>\n",
       "      <td>...</td>\n",
       "      <td>...</td>\n",
       "      <td>...</td>\n",
       "      <td>...</td>\n",
       "      <td>...</td>\n",
       "      <td>...</td>\n",
       "      <td>...</td>\n",
       "      <td>...</td>\n",
       "      <td>...</td>\n",
       "      <td>...</td>\n",
       "      <td>...</td>\n",
       "      <td>...</td>\n",
       "      <td>...</td>\n",
       "      <td>...</td>\n",
       "      <td>...</td>\n",
       "      <td>...</td>\n",
       "      <td>...</td>\n",
       "      <td>...</td>\n",
       "      <td>...</td>\n",
       "      <td>...</td>\n",
       "      <td>...</td>\n",
       "      <td>...</td>\n",
       "      <td>...</td>\n",
       "      <td>...</td>\n",
       "    </tr>\n",
       "    <tr>\n",
       "      <th>815627</th>\n",
       "      <td>815627</td>\n",
       "      <td>2020-08-31</td>\n",
       "      <td>3186</td>\n",
       "      <td>NaN</td>\n",
       "      <td>23:43:15.8540</td>\n",
       "      <td>Grove St PATH</td>\n",
       "      <td>40.719586</td>\n",
       "      <td>-74.043117</td>\n",
       "      <td>7302.0</td>\n",
       "      <td>0.0</td>\n",
       "      <td>72.0</td>\n",
       "      <td>0.008522</td>\n",
       "      <td>Newport Station</td>\n",
       "      <td>40.7247</td>\n",
       "      <td>-74.0363</td>\n",
       "      <td>Paulus Hook Park</td>\n",
       "      <td>40.758</td>\n",
       "      <td>-74.0374</td>\n",
       "      <td>0.038837</td>\n",
       "      <td>76967.0500</td>\n",
       "      <td>98752.3753</td>\n",
       "      <td>31104.0</td>\n",
       "      <td>1</td>\n",
       "      <td>Monday</td>\n",
       "      <td>0</td>\n",
       "    </tr>\n",
       "    <tr>\n",
       "      <th>815628</th>\n",
       "      <td>815628</td>\n",
       "      <td>2020-08-31</td>\n",
       "      <td>3481</td>\n",
       "      <td>NaN</td>\n",
       "      <td>23:46:19.9130</td>\n",
       "      <td>York St</td>\n",
       "      <td>40.716490</td>\n",
       "      <td>-74.041050</td>\n",
       "      <td>7302.0</td>\n",
       "      <td>0.0</td>\n",
       "      <td>72.0</td>\n",
       "      <td>0.009485</td>\n",
       "      <td>Newport Station</td>\n",
       "      <td>40.7247</td>\n",
       "      <td>-74.0363</td>\n",
       "      <td>Paulus Hook Park</td>\n",
       "      <td>40.758</td>\n",
       "      <td>-74.0374</td>\n",
       "      <td>0.041670</td>\n",
       "      <td>76967.0500</td>\n",
       "      <td>98752.3753</td>\n",
       "      <td>31104.0</td>\n",
       "      <td>1</td>\n",
       "      <td>Monday</td>\n",
       "      <td>0</td>\n",
       "    </tr>\n",
       "    <tr>\n",
       "      <th>815629</th>\n",
       "      <td>815629</td>\n",
       "      <td>2020-08-31</td>\n",
       "      <td>3195</td>\n",
       "      <td>NaN</td>\n",
       "      <td>23:47:16.8680</td>\n",
       "      <td>Sip Ave</td>\n",
       "      <td>40.730897</td>\n",
       "      <td>-74.063913</td>\n",
       "      <td>7306.0</td>\n",
       "      <td>0.0</td>\n",
       "      <td>72.0</td>\n",
       "      <td>0.002119</td>\n",
       "      <td>Journal Square</td>\n",
       "      <td>40.7327</td>\n",
       "      <td>-74.0628</td>\n",
       "      <td>Paulus Hook Park</td>\n",
       "      <td>40.758</td>\n",
       "      <td>-74.0374</td>\n",
       "      <td>0.037914</td>\n",
       "      <td>41962.6158</td>\n",
       "      <td>56445.6062</td>\n",
       "      <td>55565.0</td>\n",
       "      <td>1</td>\n",
       "      <td>Monday</td>\n",
       "      <td>0</td>\n",
       "    </tr>\n",
       "    <tr>\n",
       "      <th>815630</th>\n",
       "      <td>815630</td>\n",
       "      <td>2020-08-31</td>\n",
       "      <td>3195</td>\n",
       "      <td>NaN</td>\n",
       "      <td>23:50:37.2650</td>\n",
       "      <td>Sip Ave</td>\n",
       "      <td>40.730897</td>\n",
       "      <td>-74.063913</td>\n",
       "      <td>7306.0</td>\n",
       "      <td>0.0</td>\n",
       "      <td>72.0</td>\n",
       "      <td>0.002119</td>\n",
       "      <td>Journal Square</td>\n",
       "      <td>40.7327</td>\n",
       "      <td>-74.0628</td>\n",
       "      <td>Paulus Hook Park</td>\n",
       "      <td>40.758</td>\n",
       "      <td>-74.0374</td>\n",
       "      <td>0.037914</td>\n",
       "      <td>41962.6158</td>\n",
       "      <td>56445.6062</td>\n",
       "      <td>55565.0</td>\n",
       "      <td>1</td>\n",
       "      <td>Monday</td>\n",
       "      <td>0</td>\n",
       "    </tr>\n",
       "    <tr>\n",
       "      <th>815631</th>\n",
       "      <td>815631</td>\n",
       "      <td>2020-08-31</td>\n",
       "      <td>3211</td>\n",
       "      <td>NaN</td>\n",
       "      <td>23:55:30.8050</td>\n",
       "      <td>Newark Ave</td>\n",
       "      <td>40.721525</td>\n",
       "      <td>-74.046305</td>\n",
       "      <td>7302.0</td>\n",
       "      <td>0.0</td>\n",
       "      <td>72.0</td>\n",
       "      <td>0.010496</td>\n",
       "      <td>Newport Station</td>\n",
       "      <td>40.7247</td>\n",
       "      <td>-74.0363</td>\n",
       "      <td>Paulus Hook Park</td>\n",
       "      <td>40.758</td>\n",
       "      <td>-74.0374</td>\n",
       "      <td>0.037546</td>\n",
       "      <td>76967.0500</td>\n",
       "      <td>98752.3753</td>\n",
       "      <td>31104.0</td>\n",
       "      <td>1</td>\n",
       "      <td>Monday</td>\n",
       "      <td>0</td>\n",
       "    </tr>\n",
       "  </tbody>\n",
       "</table>\n",
       "<p>815632 rows × 25 columns</p>\n",
       "</div>"
      ],
      "text/plain": [
       "        Unnamed: 0        date  station_id  tripduration           time  \\\n",
       "0                0  2019-08-01        3192         261.0  00:19:17.4780   \n",
       "1                1  2019-08-01        3186         172.0  00:25:59.1480   \n",
       "2                2  2019-08-01        3203         525.0  00:32:13.7000   \n",
       "3                3  2019-08-01        3185         219.0  00:36:15.2730   \n",
       "4                4  2019-08-01        3272         262.0  00:45:49.3530   \n",
       "...            ...         ...         ...           ...            ...   \n",
       "815627      815627  2020-08-31        3186           NaN  23:43:15.8540   \n",
       "815628      815628  2020-08-31        3481           NaN  23:46:19.9130   \n",
       "815629      815629  2020-08-31        3195           NaN  23:47:16.8680   \n",
       "815630      815630  2020-08-31        3195           NaN  23:50:37.2650   \n",
       "815631      815631  2020-08-31        3211           NaN  23:55:30.8050   \n",
       "\n",
       "         citi_station_name  citi_station_lat  citi_station_lon  citi_zipcode  \\\n",
       "0       Liberty Light Rail         40.711242        -74.055701        7302.0   \n",
       "1            Grove St PATH         40.719586        -74.043117        7302.0   \n",
       "2            Hamilton Park         40.727596        -74.044247        7302.0   \n",
       "3                City Hall         40.717733        -74.043845        7302.0   \n",
       "4             Jersey & 3rd         40.723332        -74.045953        7302.0   \n",
       "...                    ...               ...               ...           ...   \n",
       "815627       Grove St PATH         40.719586        -74.043117        7302.0   \n",
       "815628             York St         40.716490        -74.041050        7302.0   \n",
       "815629             Sip Ave         40.730897        -74.063913        7306.0   \n",
       "815630             Sip Ave         40.730897        -74.063913        7306.0   \n",
       "815631          Newark Ave         40.721525        -74.046305        7302.0   \n",
       "\n",
       "        PRCP  TAVG  dist_mta        train_name  train_lat  train_lon  \\\n",
       "0        0.0  79.0  0.022601   Journal Square     40.7327   -74.0628   \n",
       "1        0.0  79.0  0.008522  Newport Station     40.7247   -74.0363   \n",
       "2        0.0  79.0  0.008459  Newport Station     40.7247   -74.0363   \n",
       "3        0.0  79.0  0.010270  Newport Station     40.7247   -74.0363   \n",
       "4        0.0  79.0  0.009749  Newport Station     40.7247   -74.0363   \n",
       "...      ...   ...       ...               ...        ...        ...   \n",
       "815627   0.0  72.0  0.008522  Newport Station     40.7247   -74.0363   \n",
       "815628   0.0  72.0  0.009485  Newport Station     40.7247   -74.0363   \n",
       "815629   0.0  72.0  0.002119   Journal Square     40.7327   -74.0628   \n",
       "815630   0.0  72.0  0.002119   Journal Square     40.7327   -74.0628   \n",
       "815631   0.0  72.0  0.010496  Newport Station     40.7247   -74.0363   \n",
       "\n",
       "                 landmark  landmark_lat  landmark_lon  dist_landmark  \\\n",
       "0       Paulus Hook Park         40.758      -74.0374       0.050212   \n",
       "1       Paulus Hook Park         40.758      -74.0374       0.038837   \n",
       "2       Paulus Hook Park         40.758      -74.0374       0.031166   \n",
       "3       Paulus Hook Park         40.758      -74.0374       0.040780   \n",
       "4       Paulus Hook Park         40.758      -74.0374       0.035708   \n",
       "...                   ...           ...           ...            ...   \n",
       "815627  Paulus Hook Park         40.758      -74.0374       0.038837   \n",
       "815628  Paulus Hook Park         40.758      -74.0374       0.041670   \n",
       "815629  Paulus Hook Park         40.758      -74.0374       0.037914   \n",
       "815630  Paulus Hook Park         40.758      -74.0374       0.037914   \n",
       "815631  Paulus Hook Park         40.758      -74.0374       0.037546   \n",
       "\n",
       "            Median        Mean      Pop  rider       day  weekend  \n",
       "0       76967.0500  98752.3753  31104.0      1  Thursday        0  \n",
       "1       76967.0500  98752.3753  31104.0      1  Thursday        0  \n",
       "2       76967.0500  98752.3753  31104.0      1  Thursday        0  \n",
       "3       76967.0500  98752.3753  31104.0      1  Thursday        0  \n",
       "4       76967.0500  98752.3753  31104.0      1  Thursday        0  \n",
       "...            ...         ...      ...    ...       ...      ...  \n",
       "815627  76967.0500  98752.3753  31104.0      1    Monday        0  \n",
       "815628  76967.0500  98752.3753  31104.0      1    Monday        0  \n",
       "815629  41962.6158  56445.6062  55565.0      1    Monday        0  \n",
       "815630  41962.6158  56445.6062  55565.0      1    Monday        0  \n",
       "815631  76967.0500  98752.3753  31104.0      1    Monday        0  \n",
       "\n",
       "[815632 rows x 25 columns]"
      ]
     },
     "execution_count": 123,
     "metadata": {},
     "output_type": "execute_result"
    }
   ],
   "source": [
    "df"
   ]
  },
  {
   "cell_type": "code",
   "execution_count": 6,
   "metadata": {},
   "outputs": [
    {
     "data": {
      "text/plain": [
       "(815632, 25)"
      ]
     },
     "execution_count": 6,
     "metadata": {},
     "output_type": "execute_result"
    }
   ],
   "source": [
    "df.shape"
   ]
  },
  {
   "cell_type": "code",
   "execution_count": 219,
   "metadata": {},
   "outputs": [],
   "source": [
    "# Modfying zipcode to the correct format\n",
    "df.citi_zipcode = df.citi_zipcode.astype(str)\n",
    "df.citi_zipcode = df.citi_zipcode.apply(lambda x: x[0:5])\n",
    "df.citi_zipcode = df.citi_zipcode.apply(lambda x: x.strip('.'))\n",
    "df.citi_zipcode = df.citi_zipcode.apply(lambda x: '0'+ x if x.startswith('7') else x)"
   ]
  },
  {
   "cell_type": "markdown",
   "metadata": {},
   "source": [
    "Dropping all NY Zipcodes"
   ]
  },
  {
   "cell_type": "code",
   "execution_count": 220,
   "metadata": {},
   "outputs": [],
   "source": [
    "df = df[~df.citi_zipcode.str.startswith(\"1\")]"
   ]
  },
  {
   "cell_type": "code",
   "execution_count": 134,
   "metadata": {
    "scrolled": true
   },
   "outputs": [
    {
     "data": {
      "text/html": [
       "<div>\n",
       "<style scoped>\n",
       "    .dataframe tbody tr th:only-of-type {\n",
       "        vertical-align: middle;\n",
       "    }\n",
       "\n",
       "    .dataframe tbody tr th {\n",
       "        vertical-align: top;\n",
       "    }\n",
       "\n",
       "    .dataframe thead th {\n",
       "        text-align: right;\n",
       "    }\n",
       "</style>\n",
       "<table border=\"1\" class=\"dataframe\">\n",
       "  <thead>\n",
       "    <tr style=\"text-align: right;\">\n",
       "      <th></th>\n",
       "      <th>Unnamed: 0</th>\n",
       "      <th>date</th>\n",
       "      <th>station_id</th>\n",
       "      <th>tripduration</th>\n",
       "      <th>time</th>\n",
       "      <th>citi_station_name</th>\n",
       "      <th>citi_station_lat</th>\n",
       "      <th>citi_station_lon</th>\n",
       "      <th>citi_zipcode</th>\n",
       "      <th>PRCP</th>\n",
       "      <th>TAVG</th>\n",
       "      <th>dist_mta</th>\n",
       "      <th>train_name</th>\n",
       "      <th>train_lat</th>\n",
       "      <th>train_lon</th>\n",
       "      <th>landmark</th>\n",
       "      <th>landmark_lat</th>\n",
       "      <th>landmark_lon</th>\n",
       "      <th>dist_landmark</th>\n",
       "      <th>Median</th>\n",
       "      <th>Mean</th>\n",
       "      <th>Pop</th>\n",
       "      <th>rider</th>\n",
       "      <th>day</th>\n",
       "      <th>weekend</th>\n",
       "    </tr>\n",
       "  </thead>\n",
       "  <tbody>\n",
       "    <tr>\n",
       "      <th>0</th>\n",
       "      <td>0</td>\n",
       "      <td>2019-08-01</td>\n",
       "      <td>3192</td>\n",
       "      <td>261.0</td>\n",
       "      <td>00:19:17.4780</td>\n",
       "      <td>Liberty Light Rail</td>\n",
       "      <td>40.711242</td>\n",
       "      <td>-74.055701</td>\n",
       "      <td>07302</td>\n",
       "      <td>0.0</td>\n",
       "      <td>79.0</td>\n",
       "      <td>0.022601</td>\n",
       "      <td>Journal Square</td>\n",
       "      <td>40.7327</td>\n",
       "      <td>-74.0628</td>\n",
       "      <td>Paulus Hook Park</td>\n",
       "      <td>40.758</td>\n",
       "      <td>-74.0374</td>\n",
       "      <td>0.050212</td>\n",
       "      <td>76967.0500</td>\n",
       "      <td>98752.3753</td>\n",
       "      <td>31104.0</td>\n",
       "      <td>1</td>\n",
       "      <td>Thursday</td>\n",
       "      <td>0</td>\n",
       "    </tr>\n",
       "    <tr>\n",
       "      <th>1</th>\n",
       "      <td>1</td>\n",
       "      <td>2019-08-01</td>\n",
       "      <td>3186</td>\n",
       "      <td>172.0</td>\n",
       "      <td>00:25:59.1480</td>\n",
       "      <td>Grove St PATH</td>\n",
       "      <td>40.719586</td>\n",
       "      <td>-74.043117</td>\n",
       "      <td>07302</td>\n",
       "      <td>0.0</td>\n",
       "      <td>79.0</td>\n",
       "      <td>0.008522</td>\n",
       "      <td>Newport Station</td>\n",
       "      <td>40.7247</td>\n",
       "      <td>-74.0363</td>\n",
       "      <td>Paulus Hook Park</td>\n",
       "      <td>40.758</td>\n",
       "      <td>-74.0374</td>\n",
       "      <td>0.038837</td>\n",
       "      <td>76967.0500</td>\n",
       "      <td>98752.3753</td>\n",
       "      <td>31104.0</td>\n",
       "      <td>1</td>\n",
       "      <td>Thursday</td>\n",
       "      <td>0</td>\n",
       "    </tr>\n",
       "    <tr>\n",
       "      <th>2</th>\n",
       "      <td>2</td>\n",
       "      <td>2019-08-01</td>\n",
       "      <td>3203</td>\n",
       "      <td>525.0</td>\n",
       "      <td>00:32:13.7000</td>\n",
       "      <td>Hamilton Park</td>\n",
       "      <td>40.727596</td>\n",
       "      <td>-74.044247</td>\n",
       "      <td>07302</td>\n",
       "      <td>0.0</td>\n",
       "      <td>79.0</td>\n",
       "      <td>0.008459</td>\n",
       "      <td>Newport Station</td>\n",
       "      <td>40.7247</td>\n",
       "      <td>-74.0363</td>\n",
       "      <td>Paulus Hook Park</td>\n",
       "      <td>40.758</td>\n",
       "      <td>-74.0374</td>\n",
       "      <td>0.031166</td>\n",
       "      <td>76967.0500</td>\n",
       "      <td>98752.3753</td>\n",
       "      <td>31104.0</td>\n",
       "      <td>1</td>\n",
       "      <td>Thursday</td>\n",
       "      <td>0</td>\n",
       "    </tr>\n",
       "    <tr>\n",
       "      <th>3</th>\n",
       "      <td>3</td>\n",
       "      <td>2019-08-01</td>\n",
       "      <td>3185</td>\n",
       "      <td>219.0</td>\n",
       "      <td>00:36:15.2730</td>\n",
       "      <td>City Hall</td>\n",
       "      <td>40.717733</td>\n",
       "      <td>-74.043845</td>\n",
       "      <td>07302</td>\n",
       "      <td>0.0</td>\n",
       "      <td>79.0</td>\n",
       "      <td>0.010270</td>\n",
       "      <td>Newport Station</td>\n",
       "      <td>40.7247</td>\n",
       "      <td>-74.0363</td>\n",
       "      <td>Paulus Hook Park</td>\n",
       "      <td>40.758</td>\n",
       "      <td>-74.0374</td>\n",
       "      <td>0.040780</td>\n",
       "      <td>76967.0500</td>\n",
       "      <td>98752.3753</td>\n",
       "      <td>31104.0</td>\n",
       "      <td>1</td>\n",
       "      <td>Thursday</td>\n",
       "      <td>0</td>\n",
       "    </tr>\n",
       "    <tr>\n",
       "      <th>4</th>\n",
       "      <td>4</td>\n",
       "      <td>2019-08-01</td>\n",
       "      <td>3272</td>\n",
       "      <td>262.0</td>\n",
       "      <td>00:45:49.3530</td>\n",
       "      <td>Jersey &amp; 3rd</td>\n",
       "      <td>40.723332</td>\n",
       "      <td>-74.045953</td>\n",
       "      <td>07302</td>\n",
       "      <td>0.0</td>\n",
       "      <td>79.0</td>\n",
       "      <td>0.009749</td>\n",
       "      <td>Newport Station</td>\n",
       "      <td>40.7247</td>\n",
       "      <td>-74.0363</td>\n",
       "      <td>Paulus Hook Park</td>\n",
       "      <td>40.758</td>\n",
       "      <td>-74.0374</td>\n",
       "      <td>0.035708</td>\n",
       "      <td>76967.0500</td>\n",
       "      <td>98752.3753</td>\n",
       "      <td>31104.0</td>\n",
       "      <td>1</td>\n",
       "      <td>Thursday</td>\n",
       "      <td>0</td>\n",
       "    </tr>\n",
       "    <tr>\n",
       "      <th>...</th>\n",
       "      <td>...</td>\n",
       "      <td>...</td>\n",
       "      <td>...</td>\n",
       "      <td>...</td>\n",
       "      <td>...</td>\n",
       "      <td>...</td>\n",
       "      <td>...</td>\n",
       "      <td>...</td>\n",
       "      <td>...</td>\n",
       "      <td>...</td>\n",
       "      <td>...</td>\n",
       "      <td>...</td>\n",
       "      <td>...</td>\n",
       "      <td>...</td>\n",
       "      <td>...</td>\n",
       "      <td>...</td>\n",
       "      <td>...</td>\n",
       "      <td>...</td>\n",
       "      <td>...</td>\n",
       "      <td>...</td>\n",
       "      <td>...</td>\n",
       "      <td>...</td>\n",
       "      <td>...</td>\n",
       "      <td>...</td>\n",
       "      <td>...</td>\n",
       "    </tr>\n",
       "    <tr>\n",
       "      <th>815627</th>\n",
       "      <td>815627</td>\n",
       "      <td>2020-08-31</td>\n",
       "      <td>3186</td>\n",
       "      <td>NaN</td>\n",
       "      <td>23:43:15.8540</td>\n",
       "      <td>Grove St PATH</td>\n",
       "      <td>40.719586</td>\n",
       "      <td>-74.043117</td>\n",
       "      <td>07302</td>\n",
       "      <td>0.0</td>\n",
       "      <td>72.0</td>\n",
       "      <td>0.008522</td>\n",
       "      <td>Newport Station</td>\n",
       "      <td>40.7247</td>\n",
       "      <td>-74.0363</td>\n",
       "      <td>Paulus Hook Park</td>\n",
       "      <td>40.758</td>\n",
       "      <td>-74.0374</td>\n",
       "      <td>0.038837</td>\n",
       "      <td>76967.0500</td>\n",
       "      <td>98752.3753</td>\n",
       "      <td>31104.0</td>\n",
       "      <td>1</td>\n",
       "      <td>Monday</td>\n",
       "      <td>0</td>\n",
       "    </tr>\n",
       "    <tr>\n",
       "      <th>815628</th>\n",
       "      <td>815628</td>\n",
       "      <td>2020-08-31</td>\n",
       "      <td>3481</td>\n",
       "      <td>NaN</td>\n",
       "      <td>23:46:19.9130</td>\n",
       "      <td>York St</td>\n",
       "      <td>40.716490</td>\n",
       "      <td>-74.041050</td>\n",
       "      <td>07302</td>\n",
       "      <td>0.0</td>\n",
       "      <td>72.0</td>\n",
       "      <td>0.009485</td>\n",
       "      <td>Newport Station</td>\n",
       "      <td>40.7247</td>\n",
       "      <td>-74.0363</td>\n",
       "      <td>Paulus Hook Park</td>\n",
       "      <td>40.758</td>\n",
       "      <td>-74.0374</td>\n",
       "      <td>0.041670</td>\n",
       "      <td>76967.0500</td>\n",
       "      <td>98752.3753</td>\n",
       "      <td>31104.0</td>\n",
       "      <td>1</td>\n",
       "      <td>Monday</td>\n",
       "      <td>0</td>\n",
       "    </tr>\n",
       "    <tr>\n",
       "      <th>815629</th>\n",
       "      <td>815629</td>\n",
       "      <td>2020-08-31</td>\n",
       "      <td>3195</td>\n",
       "      <td>NaN</td>\n",
       "      <td>23:47:16.8680</td>\n",
       "      <td>Sip Ave</td>\n",
       "      <td>40.730897</td>\n",
       "      <td>-74.063913</td>\n",
       "      <td>07306</td>\n",
       "      <td>0.0</td>\n",
       "      <td>72.0</td>\n",
       "      <td>0.002119</td>\n",
       "      <td>Journal Square</td>\n",
       "      <td>40.7327</td>\n",
       "      <td>-74.0628</td>\n",
       "      <td>Paulus Hook Park</td>\n",
       "      <td>40.758</td>\n",
       "      <td>-74.0374</td>\n",
       "      <td>0.037914</td>\n",
       "      <td>41962.6158</td>\n",
       "      <td>56445.6062</td>\n",
       "      <td>55565.0</td>\n",
       "      <td>1</td>\n",
       "      <td>Monday</td>\n",
       "      <td>0</td>\n",
       "    </tr>\n",
       "    <tr>\n",
       "      <th>815630</th>\n",
       "      <td>815630</td>\n",
       "      <td>2020-08-31</td>\n",
       "      <td>3195</td>\n",
       "      <td>NaN</td>\n",
       "      <td>23:50:37.2650</td>\n",
       "      <td>Sip Ave</td>\n",
       "      <td>40.730897</td>\n",
       "      <td>-74.063913</td>\n",
       "      <td>07306</td>\n",
       "      <td>0.0</td>\n",
       "      <td>72.0</td>\n",
       "      <td>0.002119</td>\n",
       "      <td>Journal Square</td>\n",
       "      <td>40.7327</td>\n",
       "      <td>-74.0628</td>\n",
       "      <td>Paulus Hook Park</td>\n",
       "      <td>40.758</td>\n",
       "      <td>-74.0374</td>\n",
       "      <td>0.037914</td>\n",
       "      <td>41962.6158</td>\n",
       "      <td>56445.6062</td>\n",
       "      <td>55565.0</td>\n",
       "      <td>1</td>\n",
       "      <td>Monday</td>\n",
       "      <td>0</td>\n",
       "    </tr>\n",
       "    <tr>\n",
       "      <th>815631</th>\n",
       "      <td>815631</td>\n",
       "      <td>2020-08-31</td>\n",
       "      <td>3211</td>\n",
       "      <td>NaN</td>\n",
       "      <td>23:55:30.8050</td>\n",
       "      <td>Newark Ave</td>\n",
       "      <td>40.721525</td>\n",
       "      <td>-74.046305</td>\n",
       "      <td>07302</td>\n",
       "      <td>0.0</td>\n",
       "      <td>72.0</td>\n",
       "      <td>0.010496</td>\n",
       "      <td>Newport Station</td>\n",
       "      <td>40.7247</td>\n",
       "      <td>-74.0363</td>\n",
       "      <td>Paulus Hook Park</td>\n",
       "      <td>40.758</td>\n",
       "      <td>-74.0374</td>\n",
       "      <td>0.037546</td>\n",
       "      <td>76967.0500</td>\n",
       "      <td>98752.3753</td>\n",
       "      <td>31104.0</td>\n",
       "      <td>1</td>\n",
       "      <td>Monday</td>\n",
       "      <td>0</td>\n",
       "    </tr>\n",
       "  </tbody>\n",
       "</table>\n",
       "<p>815499 rows × 25 columns</p>\n",
       "</div>"
      ],
      "text/plain": [
       "        Unnamed: 0        date  station_id  tripduration           time  \\\n",
       "0                0  2019-08-01        3192         261.0  00:19:17.4780   \n",
       "1                1  2019-08-01        3186         172.0  00:25:59.1480   \n",
       "2                2  2019-08-01        3203         525.0  00:32:13.7000   \n",
       "3                3  2019-08-01        3185         219.0  00:36:15.2730   \n",
       "4                4  2019-08-01        3272         262.0  00:45:49.3530   \n",
       "...            ...         ...         ...           ...            ...   \n",
       "815627      815627  2020-08-31        3186           NaN  23:43:15.8540   \n",
       "815628      815628  2020-08-31        3481           NaN  23:46:19.9130   \n",
       "815629      815629  2020-08-31        3195           NaN  23:47:16.8680   \n",
       "815630      815630  2020-08-31        3195           NaN  23:50:37.2650   \n",
       "815631      815631  2020-08-31        3211           NaN  23:55:30.8050   \n",
       "\n",
       "         citi_station_name  citi_station_lat  citi_station_lon citi_zipcode  \\\n",
       "0       Liberty Light Rail         40.711242        -74.055701        07302   \n",
       "1            Grove St PATH         40.719586        -74.043117        07302   \n",
       "2            Hamilton Park         40.727596        -74.044247        07302   \n",
       "3                City Hall         40.717733        -74.043845        07302   \n",
       "4             Jersey & 3rd         40.723332        -74.045953        07302   \n",
       "...                    ...               ...               ...          ...   \n",
       "815627       Grove St PATH         40.719586        -74.043117        07302   \n",
       "815628             York St         40.716490        -74.041050        07302   \n",
       "815629             Sip Ave         40.730897        -74.063913        07306   \n",
       "815630             Sip Ave         40.730897        -74.063913        07306   \n",
       "815631          Newark Ave         40.721525        -74.046305        07302   \n",
       "\n",
       "        PRCP  TAVG  dist_mta        train_name  train_lat  train_lon  \\\n",
       "0        0.0  79.0  0.022601   Journal Square     40.7327   -74.0628   \n",
       "1        0.0  79.0  0.008522  Newport Station     40.7247   -74.0363   \n",
       "2        0.0  79.0  0.008459  Newport Station     40.7247   -74.0363   \n",
       "3        0.0  79.0  0.010270  Newport Station     40.7247   -74.0363   \n",
       "4        0.0  79.0  0.009749  Newport Station     40.7247   -74.0363   \n",
       "...      ...   ...       ...               ...        ...        ...   \n",
       "815627   0.0  72.0  0.008522  Newport Station     40.7247   -74.0363   \n",
       "815628   0.0  72.0  0.009485  Newport Station     40.7247   -74.0363   \n",
       "815629   0.0  72.0  0.002119   Journal Square     40.7327   -74.0628   \n",
       "815630   0.0  72.0  0.002119   Journal Square     40.7327   -74.0628   \n",
       "815631   0.0  72.0  0.010496  Newport Station     40.7247   -74.0363   \n",
       "\n",
       "                 landmark  landmark_lat  landmark_lon  dist_landmark  \\\n",
       "0       Paulus Hook Park         40.758      -74.0374       0.050212   \n",
       "1       Paulus Hook Park         40.758      -74.0374       0.038837   \n",
       "2       Paulus Hook Park         40.758      -74.0374       0.031166   \n",
       "3       Paulus Hook Park         40.758      -74.0374       0.040780   \n",
       "4       Paulus Hook Park         40.758      -74.0374       0.035708   \n",
       "...                   ...           ...           ...            ...   \n",
       "815627  Paulus Hook Park         40.758      -74.0374       0.038837   \n",
       "815628  Paulus Hook Park         40.758      -74.0374       0.041670   \n",
       "815629  Paulus Hook Park         40.758      -74.0374       0.037914   \n",
       "815630  Paulus Hook Park         40.758      -74.0374       0.037914   \n",
       "815631  Paulus Hook Park         40.758      -74.0374       0.037546   \n",
       "\n",
       "            Median        Mean      Pop  rider       day  weekend  \n",
       "0       76967.0500  98752.3753  31104.0      1  Thursday        0  \n",
       "1       76967.0500  98752.3753  31104.0      1  Thursday        0  \n",
       "2       76967.0500  98752.3753  31104.0      1  Thursday        0  \n",
       "3       76967.0500  98752.3753  31104.0      1  Thursday        0  \n",
       "4       76967.0500  98752.3753  31104.0      1  Thursday        0  \n",
       "...            ...         ...      ...    ...       ...      ...  \n",
       "815627  76967.0500  98752.3753  31104.0      1    Monday        0  \n",
       "815628  76967.0500  98752.3753  31104.0      1    Monday        0  \n",
       "815629  41962.6158  56445.6062  55565.0      1    Monday        0  \n",
       "815630  41962.6158  56445.6062  55565.0      1    Monday        0  \n",
       "815631  76967.0500  98752.3753  31104.0      1    Monday        0  \n",
       "\n",
       "[815499 rows x 25 columns]"
      ]
     },
     "execution_count": 134,
     "metadata": {},
     "output_type": "execute_result"
    }
   ],
   "source": [
    "df"
   ]
  },
  {
   "cell_type": "markdown",
   "metadata": {},
   "source": [
    "AVG Daily Riders by Zipcode"
   ]
  },
  {
   "cell_type": "code",
   "execution_count": 139,
   "metadata": {
    "scrolled": false
   },
   "outputs": [
    {
     "data": {
      "image/png": "[encoded data removed]",
      "text/plain": [
       "<Figure size 720x720 with 1 Axes>"
      ]
     },
     "metadata": {},
     "output_type": "display_data"
    }
   ],
   "source": [
    "#avg daily riders by zip\n",
    "\n",
    "Y1 = df.groupby(['citi_zipcode', 'date'])['rider'].sum().median(level='citi_zipcode').sort_values()\n",
    "X1 = Y1.index\n",
    "\n",
    "zip_figure1, ax2 = plt.subplots(figsize = (10,10))\n",
    "\n",
    "\n",
    "ax2.barh(X1,Y1)\n",
    "ax2.set_title('NJ CitiBike Daily Ridership by Zipcode')\n",
    "ax2.set_xlabel('Avg Daily Riders')\n",
    "ax2.set_ylabel('Station')\n",
    "\n",
    "\n",
    "zip_figure1.set_facecolor('white')\n",
    "\n",
    "plt.show() \n"
   ]
  },
  {
   "cell_type": "markdown",
   "metadata": {},
   "source": [
    "AVG Daily Riders by Median Income"
   ]
  },
  {
   "cell_type": "code",
   "execution_count": 221,
   "metadata": {},
   "outputs": [
    {
     "data": {
      "image/png": "[encoded data removed]",
      "text/plain": [
       "<Figure size 720x720 with 1 Axes>"
      ]
     },
     "metadata": {},
     "output_type": "display_data"
    }
   ],
   "source": [
    "#avg daily riders by income\n",
    "\n",
    "Y1 = df.groupby(['Median', 'date'])['rider'].sum().median(level='Median') \n",
    "X1 = Y1.index\n",
    "\n",
    "\n",
    "fig, ax2 = plt.subplots(figsize = (10,10))\n",
    "\n",
    "\n",
    "plt.scatter(X1,Y1)\n",
    "plt.title('NJ CitiBike Daily Ridership by Median Income')\n",
    "plt.xlabel('Median Income')\n",
    "plt.ylabel('AVG Daily Riders')\n",
    "fig.set_facecolor('white')\n",
    "plt.show()"
   ]
  },
  {
   "cell_type": "markdown",
   "metadata": {},
   "source": [
    "AVG Daily Riders by Citi Bike Station"
   ]
  },
  {
   "cell_type": "code",
   "execution_count": 153,
   "metadata": {
    "scrolled": false
   },
   "outputs": [
    {
     "data": {
      "image/png": "[encoded data removed]",
      "text/plain": [
       "<Figure size 1152x720 with 1 Axes>"
      ]
     },
     "metadata": {},
     "output_type": "display_data"
    }
   ],
   "source": [
    "#ridership by bike station\n",
    "\n",
    "Y2 = df.groupby(['citi_station_name', 'date'])['rider'].sum().sort_values().median(level='citi_station_name').sort_values()\n",
    "X2 = Y2.index\n",
    "\n",
    "fig, ax3 = plt.subplots(figsize = (16,10))\n",
    "\n",
    "\n",
    "ax3.bar(X2,Y2)\n",
    "ax3.set_title('NJ CitiBike Ridership by Bike Station')\n",
    "ax3.set_xlabel('Citi Bike Station')\n",
    "ax3.set_ylabel('Avg Daily Riders')\n",
    "plt.xticks(rotation=90)\n",
    "\n",
    "fig.set_facecolor('white')\n",
    "\n",
    "plt.show() "
   ]
  },
  {
   "cell_type": "markdown",
   "metadata": {},
   "source": [
    "Distance to PATH by Station"
   ]
  },
  {
   "cell_type": "code",
   "execution_count": 150,
   "metadata": {
    "scrolled": true
   },
   "outputs": [
    {
     "data": {
      "image/png": "[encoded data removed]",
      "text/plain": [
       "<Figure size 1152x720 with 1 Axes>"
      ]
     },
     "metadata": {},
     "output_type": "display_data"
    }
   ],
   "source": [
    "#Distance to PATH\n",
    "\n",
    "Y2 = df.groupby(['citi_station_name'])['dist_mta'].mean().sort_values(ascending = False)\n",
    "X2 = Y2.index\n",
    "\n",
    "fig, ax3 = plt.subplots(figsize = (16,10))\n",
    "\n",
    "\n",
    "ax3.bar(X2,Y2)\n",
    "ax3.set_title('NJ CitiBike AVG Distance to PATH')\n",
    "ax3.set_xlabel('Citi Bike Station')\n",
    "ax3.set_ylabel('Radians')\n",
    "fig.set_facecolor('white')\n",
    "plt.xticks(rotation=90)\n",
    "\n",
    "plt.show() "
   ]
  },
  {
   "cell_type": "markdown",
   "metadata": {},
   "source": [
    "Distance to Bikeable Landmark "
   ]
  },
  {
   "cell_type": "code",
   "execution_count": 155,
   "metadata": {},
   "outputs": [
    {
     "data": {
      "image/png": "[encoded data removed]",
      "text/plain": [
       "<Figure size 1152x720 with 1 Axes>"
      ]
     },
     "metadata": {},
     "output_type": "display_data"
    }
   ],
   "source": [
    "#Closest distanec to a bikeable landmark \n",
    "\n",
    "Y2 = df.groupby(['citi_station_name'])['dist_landmark'].mean().sort_values(ascending = False)\n",
    "X2 = Y2.index\n",
    "\n",
    "fig, ax3 = plt.subplots(figsize = (16,10))\n",
    "\n",
    "\n",
    "ax3.bar(X2,Y2)\n",
    "ax3.set_title('NJ CitiBike AVG Distance to Bikeable Landmark')\n",
    "ax3.set_xlabel('Citi Bike Station')\n",
    "ax3.set_ylabel('Radians')\n",
    "fig.set_facecolor('white')\n",
    "plt.xticks(rotation=90)\n",
    "\n",
    "plt.show() "
   ]
  },
  {
   "cell_type": "markdown",
   "metadata": {},
   "source": [
    "Total Riders Over Time "
   ]
  },
  {
   "cell_type": "code",
   "execution_count": 234,
   "metadata": {},
   "outputs": [
    {
     "data": {
      "image/png": "[encoded data removed]",
      "text/plain": [
       "<Figure size 864x720 with 1 Axes>"
      ]
     },
     "metadata": {
      "needs_background": "light"
     },
     "output_type": "display_data"
    }
   ],
   "source": [
    "#AVG Daily riders over time\n",
    "\n",
    "y = df.groupby(['date'])['rider'].sum().sort_values()\n",
    "x = y.index\n",
    "\n",
    "\n",
    "plt.subplots(figsize = (12,10))\n",
    "\n",
    "plt.plot(x,y)\n",
    "plt.title('NJ CitiBike Daily Ridership Increase')\n",
    "\n",
    "plt.ylabel('AVG Daily Riders')\n",
    "\n",
    "\n",
    "plt.show()"
   ]
  },
  {
   "cell_type": "markdown",
   "metadata": {},
   "source": [
    "Riders by daily AVG temp"
   ]
  },
  {
   "cell_type": "code",
   "execution_count": 213,
   "metadata": {
    "scrolled": false
   },
   "outputs": [
    {
     "data": {
      "image/png": "[encoded data removed]",
      "text/plain": [
       "<Figure size 864x720 with 1 Axes>"
      ]
     },
     "metadata": {},
     "output_type": "display_data"
    }
   ],
   "source": [
    "#total riders by daily temp avg\n",
    "\n",
    "y = df.groupby(['TAVG'])['rider'].sum().sort_values()\n",
    "x = y.index\n",
    "\n",
    "\n",
    "fig, ax = plt.subplots(figsize = (12,10))\n",
    "\n",
    "plt.scatter(x,y)\n",
    "ax.set_title('NJ CitiBike Riders v Temperature')\n",
    "ax.set_ylabel('Daily Riders')\n",
    "ax.set_xlabel('AVG Daily Temp')\n",
    "fig.set_facecolor('white')\n",
    "\n",
    "\n",
    "plt.show()"
   ]
  },
  {
   "cell_type": "markdown",
   "metadata": {},
   "source": [
    "Daily Riders vs. Precipitation"
   ]
  },
  {
   "cell_type": "code",
   "execution_count": 112,
   "metadata": {},
   "outputs": [
    {
     "data": {
      "image/png": "[encoded data removed]",
      "text/plain": [
       "<Figure size 864x720 with 1 Axes>"
      ]
     },
     "metadata": {},
     "output_type": "display_data"
    }
   ],
   "source": [
    "#total daily riders by precipitation \n",
    "\n",
    "y = df.groupby(['PRCP'])['rider'].sum().sort_values()\n",
    "x = y.index\n",
    "\n",
    "\n",
    "fig, ax = plt.subplots(figsize = (12,10))\n",
    "\n",
    "plt.scatter(x,y)\n",
    "ax.set_title('NJ CitiBike Riders v Precipitation')\n",
    "ax.set_xlabel('Inches of Precipitation That Day')\n",
    "ax.set_ylabel('Total Daily Riders')\n",
    "fig.set_facecolor('white')\n",
    "\n",
    "plt.show()"
   ]
  },
  {
   "cell_type": "markdown",
   "metadata": {},
   "source": [
    "## Plot Citi Bike Stations & Path Stations"
   ]
  },
  {
   "cell_type": "markdown",
   "metadata": {},
   "source": [
    "Read in Citi Bike Station locations"
   ]
  },
  {
   "cell_type": "code",
   "execution_count": 236,
   "metadata": {},
   "outputs": [],
   "source": [
    "df = pd.read_csv('/Users/markdetiberiis/Desktop/Citibike_data/unique_station_zip_loc.csv')"
   ]
  },
  {
   "cell_type": "code",
   "execution_count": 237,
   "metadata": {},
   "outputs": [
    {
     "data": {
      "text/html": [
       "<div>\n",
       "<style scoped>\n",
       "    .dataframe tbody tr th:only-of-type {\n",
       "        vertical-align: middle;\n",
       "    }\n",
       "\n",
       "    .dataframe tbody tr th {\n",
       "        vertical-align: top;\n",
       "    }\n",
       "\n",
       "    .dataframe thead th {\n",
       "        text-align: right;\n",
       "    }\n",
       "</style>\n",
       "<table border=\"1\" class=\"dataframe\">\n",
       "  <thead>\n",
       "    <tr style=\"text-align: right;\">\n",
       "      <th></th>\n",
       "      <th>Unnamed: 0</th>\n",
       "      <th>station_id</th>\n",
       "      <th>station_name</th>\n",
       "      <th>station_lat</th>\n",
       "      <th>station_lon</th>\n",
       "      <th>zipcode</th>\n",
       "    </tr>\n",
       "  </thead>\n",
       "  <tbody>\n",
       "    <tr>\n",
       "      <th>0</th>\n",
       "      <td>0</td>\n",
       "      <td>3198</td>\n",
       "      <td>Heights Elevator</td>\n",
       "      <td>40.748716</td>\n",
       "      <td>-74.040443</td>\n",
       "      <td>7307</td>\n",
       "    </tr>\n",
       "    <tr>\n",
       "      <th>1</th>\n",
       "      <td>1</td>\n",
       "      <td>3280</td>\n",
       "      <td>Astor Place</td>\n",
       "      <td>40.719282</td>\n",
       "      <td>-74.071262</td>\n",
       "      <td>7304</td>\n",
       "    </tr>\n",
       "    <tr>\n",
       "      <th>2</th>\n",
       "      <td>2</td>\n",
       "      <td>3205</td>\n",
       "      <td>JC Medical Center</td>\n",
       "      <td>40.716540</td>\n",
       "      <td>-74.049638</td>\n",
       "      <td>7302</td>\n",
       "    </tr>\n",
       "    <tr>\n",
       "      <th>3</th>\n",
       "      <td>3</td>\n",
       "      <td>3281</td>\n",
       "      <td>Leonard Gordon Park</td>\n",
       "      <td>40.745910</td>\n",
       "      <td>-74.057271</td>\n",
       "      <td>7307</td>\n",
       "    </tr>\n",
       "    <tr>\n",
       "      <th>4</th>\n",
       "      <td>4</td>\n",
       "      <td>3277</td>\n",
       "      <td>Communipaw &amp; Berry Lane</td>\n",
       "      <td>40.714358</td>\n",
       "      <td>-74.066611</td>\n",
       "      <td>7304</td>\n",
       "    </tr>\n",
       "    <tr>\n",
       "      <th>...</th>\n",
       "      <td>...</td>\n",
       "      <td>...</td>\n",
       "      <td>...</td>\n",
       "      <td>...</td>\n",
       "      <td>...</td>\n",
       "      <td>...</td>\n",
       "    </tr>\n",
       "    <tr>\n",
       "      <th>142</th>\n",
       "      <td>142</td>\n",
       "      <td>3196</td>\n",
       "      <td>Riverview Park</td>\n",
       "      <td>40.744319</td>\n",
       "      <td>-74.043991</td>\n",
       "      <td>7087</td>\n",
       "    </tr>\n",
       "    <tr>\n",
       "      <th>143</th>\n",
       "      <td>143</td>\n",
       "      <td>3640</td>\n",
       "      <td>Journal Square</td>\n",
       "      <td>40.733670</td>\n",
       "      <td>-74.062500</td>\n",
       "      <td>7306</td>\n",
       "    </tr>\n",
       "    <tr>\n",
       "      <th>144</th>\n",
       "      <td>144</td>\n",
       "      <td>3640</td>\n",
       "      <td>Journal Square</td>\n",
       "      <td>40.733670</td>\n",
       "      <td>-74.062500</td>\n",
       "      <td>7306</td>\n",
       "    </tr>\n",
       "    <tr>\n",
       "      <th>145</th>\n",
       "      <td>145</td>\n",
       "      <td>3191</td>\n",
       "      <td>Union St</td>\n",
       "      <td>40.718211</td>\n",
       "      <td>-74.083639</td>\n",
       "      <td>7304</td>\n",
       "    </tr>\n",
       "    <tr>\n",
       "      <th>146</th>\n",
       "      <td>146</td>\n",
       "      <td>3191</td>\n",
       "      <td>Union St</td>\n",
       "      <td>40.718211</td>\n",
       "      <td>-74.083639</td>\n",
       "      <td>7304</td>\n",
       "    </tr>\n",
       "  </tbody>\n",
       "</table>\n",
       "<p>147 rows × 6 columns</p>\n",
       "</div>"
      ],
      "text/plain": [
       "     Unnamed: 0  station_id             station_name  station_lat  \\\n",
       "0             0        3198         Heights Elevator    40.748716   \n",
       "1             1        3280              Astor Place    40.719282   \n",
       "2             2        3205        JC Medical Center    40.716540   \n",
       "3             3        3281      Leonard Gordon Park    40.745910   \n",
       "4             4        3277  Communipaw & Berry Lane    40.714358   \n",
       "..          ...         ...                      ...          ...   \n",
       "142         142        3196           Riverview Park    40.744319   \n",
       "143         143        3640           Journal Square    40.733670   \n",
       "144         144        3640           Journal Square    40.733670   \n",
       "145         145        3191                 Union St    40.718211   \n",
       "146         146        3191                 Union St    40.718211   \n",
       "\n",
       "     station_lon  zipcode  \n",
       "0     -74.040443     7307  \n",
       "1     -74.071262     7304  \n",
       "2     -74.049638     7302  \n",
       "3     -74.057271     7307  \n",
       "4     -74.066611     7304  \n",
       "..           ...      ...  \n",
       "142   -74.043991     7087  \n",
       "143   -74.062500     7306  \n",
       "144   -74.062500     7306  \n",
       "145   -74.083639     7304  \n",
       "146   -74.083639     7304  \n",
       "\n",
       "[147 rows x 6 columns]"
      ]
     },
     "execution_count": 237,
     "metadata": {},
     "output_type": "execute_result"
    }
   ],
   "source": [
    "df "
   ]
  },
  {
   "cell_type": "code",
   "execution_count": 160,
   "metadata": {},
   "outputs": [],
   "source": [
    "# Modfying zipcode to the correct format\n",
    "df.zipcode = df.zipcode.astype(str)\n",
    "df.zipcode = df.zipcode.apply(lambda x: x[0:5])\n",
    "df.zipcode = df.zipcode.apply(lambda x: x.strip('.'))\n",
    "df.zipcode = df.zipcode.apply(lambda x: '0'+ x if x.startswith('7') else x)\n",
    "df = df[~df.zipcode.str.startswith(\"1\")]"
   ]
  },
  {
   "cell_type": "code",
   "execution_count": 161,
   "metadata": {},
   "outputs": [
    {
     "data": {
      "text/html": [
       "<div>\n",
       "<style scoped>\n",
       "    .dataframe tbody tr th:only-of-type {\n",
       "        vertical-align: middle;\n",
       "    }\n",
       "\n",
       "    .dataframe tbody tr th {\n",
       "        vertical-align: top;\n",
       "    }\n",
       "\n",
       "    .dataframe thead th {\n",
       "        text-align: right;\n",
       "    }\n",
       "</style>\n",
       "<table border=\"1\" class=\"dataframe\">\n",
       "  <thead>\n",
       "    <tr style=\"text-align: right;\">\n",
       "      <th></th>\n",
       "      <th>Unnamed: 0</th>\n",
       "      <th>station_id</th>\n",
       "      <th>station_name</th>\n",
       "      <th>station_lat</th>\n",
       "      <th>station_lon</th>\n",
       "      <th>zipcode</th>\n",
       "    </tr>\n",
       "  </thead>\n",
       "  <tbody>\n",
       "    <tr>\n",
       "      <th>0</th>\n",
       "      <td>0</td>\n",
       "      <td>3198</td>\n",
       "      <td>Heights Elevator</td>\n",
       "      <td>40.748716</td>\n",
       "      <td>-74.040443</td>\n",
       "      <td>07307</td>\n",
       "    </tr>\n",
       "    <tr>\n",
       "      <th>1</th>\n",
       "      <td>1</td>\n",
       "      <td>3280</td>\n",
       "      <td>Astor Place</td>\n",
       "      <td>40.719282</td>\n",
       "      <td>-74.071262</td>\n",
       "      <td>07304</td>\n",
       "    </tr>\n",
       "    <tr>\n",
       "      <th>2</th>\n",
       "      <td>2</td>\n",
       "      <td>3205</td>\n",
       "      <td>JC Medical Center</td>\n",
       "      <td>40.716540</td>\n",
       "      <td>-74.049638</td>\n",
       "      <td>07302</td>\n",
       "    </tr>\n",
       "    <tr>\n",
       "      <th>3</th>\n",
       "      <td>3</td>\n",
       "      <td>3281</td>\n",
       "      <td>Leonard Gordon Park</td>\n",
       "      <td>40.745910</td>\n",
       "      <td>-74.057271</td>\n",
       "      <td>07307</td>\n",
       "    </tr>\n",
       "    <tr>\n",
       "      <th>4</th>\n",
       "      <td>4</td>\n",
       "      <td>3277</td>\n",
       "      <td>Communipaw &amp; Berry Lane</td>\n",
       "      <td>40.714358</td>\n",
       "      <td>-74.066611</td>\n",
       "      <td>07304</td>\n",
       "    </tr>\n",
       "    <tr>\n",
       "      <th>...</th>\n",
       "      <td>...</td>\n",
       "      <td>...</td>\n",
       "      <td>...</td>\n",
       "      <td>...</td>\n",
       "      <td>...</td>\n",
       "      <td>...</td>\n",
       "    </tr>\n",
       "    <tr>\n",
       "      <th>142</th>\n",
       "      <td>142</td>\n",
       "      <td>3196</td>\n",
       "      <td>Riverview Park</td>\n",
       "      <td>40.744319</td>\n",
       "      <td>-74.043991</td>\n",
       "      <td>07087</td>\n",
       "    </tr>\n",
       "    <tr>\n",
       "      <th>143</th>\n",
       "      <td>143</td>\n",
       "      <td>3640</td>\n",
       "      <td>Journal Square</td>\n",
       "      <td>40.733670</td>\n",
       "      <td>-74.062500</td>\n",
       "      <td>07306</td>\n",
       "    </tr>\n",
       "    <tr>\n",
       "      <th>144</th>\n",
       "      <td>144</td>\n",
       "      <td>3640</td>\n",
       "      <td>Journal Square</td>\n",
       "      <td>40.733670</td>\n",
       "      <td>-74.062500</td>\n",
       "      <td>07306</td>\n",
       "    </tr>\n",
       "    <tr>\n",
       "      <th>145</th>\n",
       "      <td>145</td>\n",
       "      <td>3191</td>\n",
       "      <td>Union St</td>\n",
       "      <td>40.718211</td>\n",
       "      <td>-74.083639</td>\n",
       "      <td>07304</td>\n",
       "    </tr>\n",
       "    <tr>\n",
       "      <th>146</th>\n",
       "      <td>146</td>\n",
       "      <td>3191</td>\n",
       "      <td>Union St</td>\n",
       "      <td>40.718211</td>\n",
       "      <td>-74.083639</td>\n",
       "      <td>07304</td>\n",
       "    </tr>\n",
       "  </tbody>\n",
       "</table>\n",
       "<p>85 rows × 6 columns</p>\n",
       "</div>"
      ],
      "text/plain": [
       "     Unnamed: 0  station_id             station_name  station_lat  \\\n",
       "0             0        3198         Heights Elevator    40.748716   \n",
       "1             1        3280              Astor Place    40.719282   \n",
       "2             2        3205        JC Medical Center    40.716540   \n",
       "3             3        3281      Leonard Gordon Park    40.745910   \n",
       "4             4        3277  Communipaw & Berry Lane    40.714358   \n",
       "..          ...         ...                      ...          ...   \n",
       "142         142        3196           Riverview Park    40.744319   \n",
       "143         143        3640           Journal Square    40.733670   \n",
       "144         144        3640           Journal Square    40.733670   \n",
       "145         145        3191                 Union St    40.718211   \n",
       "146         146        3191                 Union St    40.718211   \n",
       "\n",
       "     station_lon zipcode  \n",
       "0     -74.040443   07307  \n",
       "1     -74.071262   07304  \n",
       "2     -74.049638   07302  \n",
       "3     -74.057271   07307  \n",
       "4     -74.066611   07304  \n",
       "..           ...     ...  \n",
       "142   -74.043991   07087  \n",
       "143   -74.062500   07306  \n",
       "144   -74.062500   07306  \n",
       "145   -74.083639   07304  \n",
       "146   -74.083639   07304  \n",
       "\n",
       "[85 rows x 6 columns]"
      ]
     },
     "execution_count": 161,
     "metadata": {},
     "output_type": "execute_result"
    }
   ],
   "source": [
    "df"
   ]
  },
  {
   "cell_type": "code",
   "execution_count": 162,
   "metadata": {},
   "outputs": [
    {
     "name": "stderr",
     "output_type": "stream",
     "text": [
      "/Users/markdetiberiis/opt/anaconda3/lib/python3.8/site-packages/pandas/core/frame.py:3990: SettingWithCopyWarning:\n",
      "\n",
      "\n",
      "A value is trying to be set on a copy of a slice from a DataFrame\n",
      "\n",
      "See the caveats in the documentation: https://pandas.pydata.org/pandas-docs/stable/user_guide/indexing.html#returning-a-view-versus-a-copy\n",
      "\n"
     ]
    }
   ],
   "source": [
    "df.drop(['Unnamed: 0'], axis = 1, inplace = True)"
   ]
  },
  {
   "cell_type": "code",
   "execution_count": 35,
   "metadata": {},
   "outputs": [
    {
     "name": "stderr",
     "output_type": "stream",
     "text": [
      "<ipython-input-35-8cd1ec618269>:1: SettingWithCopyWarning: \n",
      "A value is trying to be set on a copy of a slice from a DataFrame\n",
      "\n",
      "See the caveats in the documentation: https://pandas.pydata.org/pandas-docs/stable/user_guide/indexing.html#returning-a-view-versus-a-copy\n",
      "  df.drop_duplicates(subset = 'station_id', inplace = True)\n"
     ]
    }
   ],
   "source": [
    "df.drop_duplicates(subset = 'station_id', inplace = True)"
   ]
  },
  {
   "cell_type": "markdown",
   "metadata": {},
   "source": [
    "Read in PATH Station locations"
   ]
  },
  {
   "cell_type": "code",
   "execution_count": 189,
   "metadata": {},
   "outputs": [],
   "source": [
    "df_path = pd.read_csv('/Users/markdetiberiis/Desktop/Citibike_data/PATH_stations.csv')"
   ]
  },
  {
   "cell_type": "code",
   "execution_count": 163,
   "metadata": {},
   "outputs": [],
   "source": [
    "df.drop(['station_id', 'zipcode'], axis = 1, inplace = True)"
   ]
  },
  {
   "cell_type": "code",
   "execution_count": 188,
   "metadata": {},
   "outputs": [
    {
     "name": "stderr",
     "output_type": "stream",
     "text": [
      "<ipython-input-188-f1c0e7dec871>:1: SettingWithCopyWarning:\n",
      "\n",
      "\n",
      "A value is trying to be set on a copy of a slice from a DataFrame.\n",
      "Try using .loc[row_indexer,col_indexer] = value instead\n",
      "\n",
      "See the caveats in the documentation: https://pandas.pydata.org/pandas-docs/stable/user_guide/indexing.html#returning-a-view-versus-a-copy\n",
      "\n"
     ]
    }
   ],
   "source": [
    "df['group'] = 'citi'"
   ]
  },
  {
   "cell_type": "code",
   "execution_count": 190,
   "metadata": {},
   "outputs": [],
   "source": [
    "df_path.drop(['Line'],axis = 1, inplace = True)"
   ]
  },
  {
   "cell_type": "code",
   "execution_count": 191,
   "metadata": {},
   "outputs": [],
   "source": [
    "df_path['group'] = 'PATH'"
   ]
  },
  {
   "cell_type": "markdown",
   "metadata": {},
   "source": [
    "Make PATH column names similar to Citi Stations for merge"
   ]
  },
  {
   "cell_type": "code",
   "execution_count": 192,
   "metadata": {},
   "outputs": [],
   "source": [
    "df_path.rename(columns = {'Station Name': 'station_name', 'Station Latitude': 'station_lat', 'Station Longitude': 'station_lon'}, inplace = True)"
   ]
  },
  {
   "cell_type": "markdown",
   "metadata": {},
   "source": [
    "Merge Path and Citi locations"
   ]
  },
  {
   "cell_type": "code",
   "execution_count": 199,
   "metadata": {},
   "outputs": [],
   "source": [
    "df = df.append(df_path)"
   ]
  },
  {
   "cell_type": "code",
   "execution_count": 233,
   "metadata": {},
   "outputs": [],
   "source": [
    "df = df[~df.citi_zipcode.str.startswith(\"1\")]"
   ]
  },
  {
   "cell_type": "code",
   "execution_count": 194,
   "metadata": {},
   "outputs": [
    {
     "name": "stderr",
     "output_type": "stream",
     "text": [
      "<ipython-input-194-9ce7144259af>:1: SettingWithCopyWarning:\n",
      "\n",
      "\n",
      "A value is trying to be set on a copy of a slice from a DataFrame\n",
      "\n",
      "See the caveats in the documentation: https://pandas.pydata.org/pandas-docs/stable/user_guide/indexing.html#returning-a-view-versus-a-copy\n",
      "\n"
     ]
    }
   ],
   "source": [
    "df.drop_duplicates(inplace = True)"
   ]
  },
  {
   "cell_type": "code",
   "execution_count": 200,
   "metadata": {},
   "outputs": [],
   "source": [
    "df.reset_index(inplace = True)"
   ]
  },
  {
   "cell_type": "code",
   "execution_count": 202,
   "metadata": {},
   "outputs": [],
   "source": [
    "df.drop(['level_0', 'index'],axis = 1, inplace = True)"
   ]
  },
  {
   "cell_type": "code",
   "execution_count": 205,
   "metadata": {
    "scrolled": false
   },
   "outputs": [
    {
     "data": {
      "application/vnd.plotly.v1+json": {
       "config": {
        "plotlyServerURL": "https://plot.ly"
       },
       "data": [
        {
         "hovertemplate": "group=citi<br>station_lat=%{lat}<br>station_lon=%{lon}<extra></extra>",
         "lat": [
          40.748715945380226,
          40.71928220070703,
          40.71653978099194,
          40.74590996631558,
          40.71435836870427,
          40.727595965999996,
          40.717732500000004,
          40.7246050998869,
          40.728744799999994,
          40.7241765,
          40.72568548362901,
          40.71458403535893,
          40.7242941,
          40.7272235,
          40.733670000000004,
          40.71958611647166,
          40.711242299999995,
          40.71925170000001,
          40.71848892,
          40.73089709786179,
          40.72528910781132,
          40.71835519823214,
          40.742677141,
          40.72112360000001,
          40.7141454,
          40.723331586464354,
          40.7253399253558,
          40.73520838045357,
          40.72152515,
          40.726011729646245,
          40.72165072487999,
          40.71649,
          40.7311689,
          40.7236589,
          40.71942,
          40.71517767732029,
          40.71277420000001,
          40.7124188237569,
          40.72755146730012,
          40.7376037,
          40.737711,
          40.72163014263835,
          40.7443187,
          40.72210378668603,
          40.734785818,
          40.71346382669195,
          40.71821129999999,
          40.73496102000952,
          40.72572613742557,
          40.71113,
          40.70965083364061,
          40.71687,
          40.7177325,
          40.7112423,
          40.7287448,
          40.73367
         ],
         "legendgroup": "citi",
         "lon": [
          -74.04044330120088,
          -74.07126188278198,
          -74.0496379137039,
          -74.05727148056029,
          -74.06661093235016,
          -74.044247311,
          -74.04384499999998,
          -74.07840594649316,
          -74.03210820000002,
          -74.05065640000002,
          -74.0487903356552,
          -74.04281705617905,
          -74.0354826,
          -74.03375890000002,
          -74.0625,
          -74.0431174635887,
          -74.0557013,
          -74.034234,
          -74.047726625,
          -74.06391263008119,
          -74.04557168483734,
          -74.03891444206238,
          -74.051788633,
          -74.03805095,
          -74.0335519,
          -74.04595255851744,
          -74.06762212514876,
          -74.04696375131606,
          -74.046304543,
          -74.0503889322281,
          -74.04288411140442,
          -74.04105,
          -74.0575736,
          -74.0641943,
          -74.05099,
          -74.03768330812454,
          -74.03648570000001,
          -74.03852552175522,
          -74.07106071710588,
          -74.05247829999998,
          -74.066921,
          -74.04996782541275,
          -74.04399090000003,
          -74.07145500183104,
          -74.050443636,
          -74.06285852193831,
          -74.08363940000002,
          -74.05950307846071,
          -74.07195925712584,
          -74.0789,
          -74.0686011314392,
          -74.03281,
          -74.04384499999998,
          -74.0557013,
          -74.03210820000002,
          -74.0625
         ],
         "marker": {
          "color": "#636efa"
         },
         "mode": "markers",
         "name": "citi",
         "showlegend": true,
         "subplot": "mapbox",
         "type": "scattermapbox"
        },
        {
         "hovertemplate": "group=PATH<br>station_lat=%{lat}<br>station_lon=%{lon}<extra></extra>",
         "lat": [
          40.7247,
          40.7384,
          40.7327
         ],
         "legendgroup": "PATH",
         "lon": [
          -74.0363,
          -74.1557,
          -74.0628
         ],
         "marker": {
          "color": "#EF553B"
         },
         "mode": "markers",
         "name": "PATH",
         "showlegend": true,
         "subplot": "mapbox",
         "type": "scattermapbox"
        }
       ],
       "layout": {
        "legend": {
         "title": {
          "text": "group"
         },
         "tracegroupgap": 0
        },
        "mapbox": {
         "accesstoken": "pk.eyJ1IjoibWRldGliZXJpaXMwMSIsImEiOiJja2YxZTVzOGcwdWk5MnFsZTBuczIwaTBwIn0.qR6X2tKxDsJZttJMxDiOnQ",
         "center": {
          "lat": 40.724428104383385,
          "lon": -74.05339946795429
         },
         "domain": {
          "x": [
           0,
           1
          ],
          "y": [
           0,
           1
          ]
         },
         "zoom": 8
        },
        "margin": {
         "t": 60
        },
        "template": {
         "data": {
          "bar": [
           {
            "error_x": {
             "color": "#2a3f5f"
            },
            "error_y": {
             "color": "#2a3f5f"
            },
            "marker": {
             "line": {
              "color": "#E5ECF6",
              "width": 0.5
             }
            },
            "type": "bar"
           }
          ],
          "barpolar": [
           {
            "marker": {
             "line": {
              "color": "#E5ECF6",
              "width": 0.5
             }
            },
            "type": "barpolar"
           }
          ],
          "carpet": [
           {
            "aaxis": {
             "endlinecolor": "#2a3f5f",
             "gridcolor": "white",
             "linecolor": "white",
             "minorgridcolor": "white",
             "startlinecolor": "#2a3f5f"
            },
            "baxis": {
             "endlinecolor": "#2a3f5f",
             "gridcolor": "white",
             "linecolor": "white",
             "minorgridcolor": "white",
             "startlinecolor": "#2a3f5f"
            },
            "type": "carpet"
           }
          ],
          "choropleth": [
           {
            "colorbar": {
             "outlinewidth": 0,
             "ticks": ""
            },
            "type": "choropleth"
           }
          ],
          "contour": [
           {
            "colorbar": {
             "outlinewidth": 0,
             "ticks": ""
            },
            "colorscale": [
             [
              0,
              "#0d0887"
             ],
             [
              0.1111111111111111,
              "#46039f"
             ],
             [
              0.2222222222222222,
              "#7201a8"
             ],
             [
              0.3333333333333333,
              "#9c179e"
             ],
             [
              0.4444444444444444,
              "#bd3786"
             ],
             [
              0.5555555555555556,
              "#d8576b"
             ],
             [
              0.6666666666666666,
              "#ed7953"
             ],
             [
              0.7777777777777778,
              "#fb9f3a"
             ],
             [
              0.8888888888888888,
              "#fdca26"
             ],
             [
              1,
              "#f0f921"
             ]
            ],
            "type": "contour"
           }
          ],
          "contourcarpet": [
           {
            "colorbar": {
             "outlinewidth": 0,
             "ticks": ""
            },
            "type": "contourcarpet"
           }
          ],
          "heatmap": [
           {
            "colorbar": {
             "outlinewidth": 0,
             "ticks": ""
            },
            "colorscale": [
             [
              0,
              "#0d0887"
             ],
             [
              0.1111111111111111,
              "#46039f"
             ],
             [
              0.2222222222222222,
              "#7201a8"
             ],
             [
              0.3333333333333333,
              "#9c179e"
             ],
             [
              0.4444444444444444,
              "#bd3786"
             ],
             [
              0.5555555555555556,
              "#d8576b"
             ],
             [
              0.6666666666666666,
              "#ed7953"
             ],
             [
              0.7777777777777778,
              "#fb9f3a"
             ],
             [
              0.8888888888888888,
              "#fdca26"
             ],
             [
              1,
              "#f0f921"
             ]
            ],
            "type": "heatmap"
           }
          ],
          "heatmapgl": [
           {
            "colorbar": {
             "outlinewidth": 0,
             "ticks": ""
            },
            "colorscale": [
             [
              0,
              "#0d0887"
             ],
             [
              0.1111111111111111,
              "#46039f"
             ],
             [
              0.2222222222222222,
              "#7201a8"
             ],
             [
              0.3333333333333333,
              "#9c179e"
             ],
             [
              0.4444444444444444,
              "#bd3786"
             ],
             [
              0.5555555555555556,
              "#d8576b"
             ],
             [
              0.6666666666666666,
              "#ed7953"
             ],
             [
              0.7777777777777778,
              "#fb9f3a"
             ],
             [
              0.8888888888888888,
              "#fdca26"
             ],
             [
              1,
              "#f0f921"
             ]
            ],
            "type": "heatmapgl"
           }
          ],
          "histogram": [
           {
            "marker": {
             "colorbar": {
              "outlinewidth": 0,
              "ticks": ""
             }
            },
            "type": "histogram"
           }
          ],
          "histogram2d": [
           {
            "colorbar": {
             "outlinewidth": 0,
             "ticks": ""
            },
            "colorscale": [
             [
              0,
              "#0d0887"
             ],
             [
              0.1111111111111111,
              "#46039f"
             ],
             [
              0.2222222222222222,
              "#7201a8"
             ],
             [
              0.3333333333333333,
              "#9c179e"
             ],
             [
              0.4444444444444444,
              "#bd3786"
             ],
             [
              0.5555555555555556,
              "#d8576b"
             ],
             [
              0.6666666666666666,
              "#ed7953"
             ],
             [
              0.7777777777777778,
              "#fb9f3a"
             ],
             [
              0.8888888888888888,
              "#fdca26"
             ],
             [
              1,
              "#f0f921"
             ]
            ],
            "type": "histogram2d"
           }
          ],
          "histogram2dcontour": [
           {
            "colorbar": {
             "outlinewidth": 0,
             "ticks": ""
            },
            "colorscale": [
             [
              0,
              "#0d0887"
             ],
             [
              0.1111111111111111,
              "#46039f"
             ],
             [
              0.2222222222222222,
              "#7201a8"
             ],
             [
              0.3333333333333333,
              "#9c179e"
             ],
             [
              0.4444444444444444,
              "#bd3786"
             ],
             [
              0.5555555555555556,
              "#d8576b"
             ],
             [
              0.6666666666666666,
              "#ed7953"
             ],
             [
              0.7777777777777778,
              "#fb9f3a"
             ],
             [
              0.8888888888888888,
              "#fdca26"
             ],
             [
              1,
              "#f0f921"
             ]
            ],
            "type": "histogram2dcontour"
           }
          ],
          "mesh3d": [
           {
            "colorbar": {
             "outlinewidth": 0,
             "ticks": ""
            },
            "type": "mesh3d"
           }
          ],
          "parcoords": [
           {
            "line": {
             "colorbar": {
              "outlinewidth": 0,
              "ticks": ""
             }
            },
            "type": "parcoords"
           }
          ],
          "pie": [
           {
            "automargin": true,
            "type": "pie"
           }
          ],
          "scatter": [
           {
            "marker": {
             "colorbar": {
              "outlinewidth": 0,
              "ticks": ""
             }
            },
            "type": "scatter"
           }
          ],
          "scatter3d": [
           {
            "line": {
             "colorbar": {
              "outlinewidth": 0,
              "ticks": ""
             }
            },
            "marker": {
             "colorbar": {
              "outlinewidth": 0,
              "ticks": ""
             }
            },
            "type": "scatter3d"
           }
          ],
          "scattercarpet": [
           {
            "marker": {
             "colorbar": {
              "outlinewidth": 0,
              "ticks": ""
             }
            },
            "type": "scattercarpet"
           }
          ],
          "scattergeo": [
           {
            "marker": {
             "colorbar": {
              "outlinewidth": 0,
              "ticks": ""
             }
            },
            "type": "scattergeo"
           }
          ],
          "scattergl": [
           {
            "marker": {
             "colorbar": {
              "outlinewidth": 0,
              "ticks": ""
             }
            },
            "type": "scattergl"
           }
          ],
          "scattermapbox": [
           {
            "marker": {
             "colorbar": {
              "outlinewidth": 0,
              "ticks": ""
             }
            },
            "type": "scattermapbox"
           }
          ],
          "scatterpolar": [
           {
            "marker": {
             "colorbar": {
              "outlinewidth": 0,
              "ticks": ""
             }
            },
            "type": "scatterpolar"
           }
          ],
          "scatterpolargl": [
           {
            "marker": {
             "colorbar": {
              "outlinewidth": 0,
              "ticks": ""
             }
            },
            "type": "scatterpolargl"
           }
          ],
          "scatterternary": [
           {
            "marker": {
             "colorbar": {
              "outlinewidth": 0,
              "ticks": ""
             }
            },
            "type": "scatterternary"
           }
          ],
          "surface": [
           {
            "colorbar": {
             "outlinewidth": 0,
             "ticks": ""
            },
            "colorscale": [
             [
              0,
              "#0d0887"
             ],
             [
              0.1111111111111111,
              "#46039f"
             ],
             [
              0.2222222222222222,
              "#7201a8"
             ],
             [
              0.3333333333333333,
              "#9c179e"
             ],
             [
              0.4444444444444444,
              "#bd3786"
             ],
             [
              0.5555555555555556,
              "#d8576b"
             ],
             [
              0.6666666666666666,
              "#ed7953"
             ],
             [
              0.7777777777777778,
              "#fb9f3a"
             ],
             [
              0.8888888888888888,
              "#fdca26"
             ],
             [
              1,
              "#f0f921"
             ]
            ],
            "type": "surface"
           }
          ],
          "table": [
           {
            "cells": {
             "fill": {
              "color": "#EBF0F8"
             },
             "line": {
              "color": "white"
             }
            },
            "header": {
             "fill": {
              "color": "#C8D4E3"
             },
             "line": {
              "color": "white"
             }
            },
            "type": "table"
           }
          ]
         },
         "layout": {
          "annotationdefaults": {
           "arrowcolor": "#2a3f5f",
           "arrowhead": 0,
           "arrowwidth": 1
          },
          "coloraxis": {
           "colorbar": {
            "outlinewidth": 0,
            "ticks": ""
           }
          },
          "colorscale": {
           "diverging": [
            [
             0,
             "#8e0152"
            ],
            [
             0.1,
             "#c51b7d"
            ],
            [
             0.2,
             "#de77ae"
            ],
            [
             0.3,
             "#f1b6da"
            ],
            [
             0.4,
             "#fde0ef"
            ],
            [
             0.5,
             "#f7f7f7"
            ],
            [
             0.6,
             "#e6f5d0"
            ],
            [
             0.7,
             "#b8e186"
            ],
            [
             0.8,
             "#7fbc41"
            ],
            [
             0.9,
             "#4d9221"
            ],
            [
             1,
             "#276419"
            ]
           ],
           "sequential": [
            [
             0,
             "#0d0887"
            ],
            [
             0.1111111111111111,
             "#46039f"
            ],
            [
             0.2222222222222222,
             "#7201a8"
            ],
            [
             0.3333333333333333,
             "#9c179e"
            ],
            [
             0.4444444444444444,
             "#bd3786"
            ],
            [
             0.5555555555555556,
             "#d8576b"
            ],
            [
             0.6666666666666666,
             "#ed7953"
            ],
            [
             0.7777777777777778,
             "#fb9f3a"
            ],
            [
             0.8888888888888888,
             "#fdca26"
            ],
            [
             1,
             "#f0f921"
            ]
           ],
           "sequentialminus": [
            [
             0,
             "#0d0887"
            ],
            [
             0.1111111111111111,
             "#46039f"
            ],
            [
             0.2222222222222222,
             "#7201a8"
            ],
            [
             0.3333333333333333,
             "#9c179e"
            ],
            [
             0.4444444444444444,
             "#bd3786"
            ],
            [
             0.5555555555555556,
             "#d8576b"
            ],
            [
             0.6666666666666666,
             "#ed7953"
            ],
            [
             0.7777777777777778,
             "#fb9f3a"
            ],
            [
             0.8888888888888888,
             "#fdca26"
            ],
            [
             1,
             "#f0f921"
            ]
           ]
          },
          "colorway": [
           "#636efa",
           "#EF553B",
           "#00cc96",
           "#ab63fa",
           "#FFA15A",
           "#19d3f3",
           "#FF6692",
           "#B6E880",
           "#FF97FF",
           "#FECB52"
          ],
          "font": {
           "color": "#2a3f5f"
          },
          "geo": {
           "bgcolor": "white",
           "lakecolor": "white",
           "landcolor": "#E5ECF6",
           "showlakes": true,
           "showland": true,
           "subunitcolor": "white"
          },
          "hoverlabel": {
           "align": "left"
          },
          "hovermode": "closest",
          "mapbox": {
           "style": "light"
          },
          "paper_bgcolor": "white",
          "plot_bgcolor": "#E5ECF6",
          "polar": {
           "angularaxis": {
            "gridcolor": "white",
            "linecolor": "white",
            "ticks": ""
           },
           "bgcolor": "#E5ECF6",
           "radialaxis": {
            "gridcolor": "white",
            "linecolor": "white",
            "ticks": ""
           }
          },
          "scene": {
           "xaxis": {
            "backgroundcolor": "#E5ECF6",
            "gridcolor": "white",
            "gridwidth": 2,
            "linecolor": "white",
            "showbackground": true,
            "ticks": "",
            "zerolinecolor": "white"
           },
           "yaxis": {
            "backgroundcolor": "#E5ECF6",
            "gridcolor": "white",
            "gridwidth": 2,
            "linecolor": "white",
            "showbackground": true,
            "ticks": "",
            "zerolinecolor": "white"
           },
           "zaxis": {
            "backgroundcolor": "#E5ECF6",
            "gridcolor": "white",
            "gridwidth": 2,
            "linecolor": "white",
            "showbackground": true,
            "ticks": "",
            "zerolinecolor": "white"
           }
          },
          "shapedefaults": {
           "line": {
            "color": "#2a3f5f"
           }
          },
          "ternary": {
           "aaxis": {
            "gridcolor": "white",
            "linecolor": "white",
            "ticks": ""
           },
           "baxis": {
            "gridcolor": "white",
            "linecolor": "white",
            "ticks": ""
           },
           "bgcolor": "#E5ECF6",
           "caxis": {
            "gridcolor": "white",
            "linecolor": "white",
            "ticks": ""
           }
          },
          "title": {
           "x": 0.05
          },
          "xaxis": {
           "automargin": true,
           "gridcolor": "white",
           "linecolor": "white",
           "ticks": "",
           "title": {
            "standoff": 15
           },
           "zerolinecolor": "white",
           "zerolinewidth": 2
          },
          "yaxis": {
           "automargin": true,
           "gridcolor": "white",
           "linecolor": "white",
           "ticks": "",
           "title": {
            "standoff": 15
           },
           "zerolinecolor": "white",
           "zerolinewidth": 2
          }
         }
        }
       }
      },
      "text/html": [
       "<div>                            <div id=\"b3193f37-7569-47d7-8235-2128cad4296a\" class=\"plotly-graph-div\" style=\"height:525px; width:100%;\"></div>            <script type=\"text/javascript\">                require([\"plotly\"], function(Plotly) {                    window.PLOTLYENV=window.PLOTLYENV || {};                                    if (document.getElementById(\"b3193f37-7569-47d7-8235-2128cad4296a\")) {                    Plotly.newPlot(                        \"b3193f37-7569-47d7-8235-2128cad4296a\",                        [{\"hovertemplate\": \"group=citi<br>station_lat=%{lat}<br>station_lon=%{lon}<extra></extra>\", \"lat\": [40.748715945380226, 40.71928220070703, 40.71653978099194, 40.74590996631558, 40.71435836870427, 40.727595965999996, 40.717732500000004, 40.7246050998869, 40.728744799999994, 40.7241765, 40.72568548362901, 40.71458403535893, 40.7242941, 40.7272235, 40.733670000000004, 40.71958611647166, 40.711242299999995, 40.71925170000001, 40.71848892, 40.73089709786179, 40.72528910781132, 40.71835519823214, 40.742677141, 40.72112360000001, 40.7141454, 40.723331586464354, 40.7253399253558, 40.73520838045357, 40.72152515, 40.726011729646245, 40.72165072487999, 40.71649, 40.7311689, 40.7236589, 40.71942, 40.71517767732029, 40.71277420000001, 40.7124188237569, 40.72755146730012, 40.7376037, 40.737711, 40.72163014263835, 40.7443187, 40.72210378668603, 40.734785818, 40.71346382669195, 40.71821129999999, 40.73496102000952, 40.72572613742557, 40.71113, 40.70965083364061, 40.71687, 40.7177325, 40.7112423, 40.7287448, 40.73367], \"legendgroup\": \"citi\", \"lon\": [-74.04044330120088, -74.07126188278198, -74.0496379137039, -74.05727148056029, -74.06661093235016, -74.044247311, -74.04384499999998, -74.07840594649316, -74.03210820000002, -74.05065640000002, -74.0487903356552, -74.04281705617905, -74.0354826, -74.03375890000002, -74.0625, -74.0431174635887, -74.0557013, -74.034234, -74.047726625, -74.06391263008119, -74.04557168483734, -74.03891444206238, -74.051788633, -74.03805095, -74.0335519, -74.04595255851744, -74.06762212514876, -74.04696375131606, -74.046304543, -74.0503889322281, -74.04288411140442, -74.04105, -74.0575736, -74.0641943, -74.05099, -74.03768330812454, -74.03648570000001, -74.03852552175522, -74.07106071710588, -74.05247829999998, -74.066921, -74.04996782541275, -74.04399090000003, -74.07145500183104, -74.050443636, -74.06285852193831, -74.08363940000002, -74.05950307846071, -74.07195925712584, -74.0789, -74.0686011314392, -74.03281, -74.04384499999998, -74.0557013, -74.03210820000002, -74.0625], \"marker\": {\"color\": \"#636efa\"}, \"mode\": \"markers\", \"name\": \"citi\", \"showlegend\": true, \"subplot\": \"mapbox\", \"type\": \"scattermapbox\"}, {\"hovertemplate\": \"group=PATH<br>station_lat=%{lat}<br>station_lon=%{lon}<extra></extra>\", \"lat\": [40.7247, 40.7384, 40.7327], \"legendgroup\": \"PATH\", \"lon\": [-74.0363, -74.1557, -74.0628], \"marker\": {\"color\": \"#EF553B\"}, \"mode\": \"markers\", \"name\": \"PATH\", \"showlegend\": true, \"subplot\": \"mapbox\", \"type\": \"scattermapbox\"}],                        {\"legend\": {\"title\": {\"text\": \"group\"}, \"tracegroupgap\": 0}, \"mapbox\": {\"accesstoken\": \"pk.eyJ1IjoibWRldGliZXJpaXMwMSIsImEiOiJja2YxZTVzOGcwdWk5MnFsZTBuczIwaTBwIn0.qR6X2tKxDsJZttJMxDiOnQ\", \"center\": {\"lat\": 40.724428104383385, \"lon\": -74.05339946795429}, \"domain\": {\"x\": [0.0, 1.0], \"y\": [0.0, 1.0]}, \"zoom\": 8}, \"margin\": {\"t\": 60}, \"template\": {\"data\": {\"bar\": [{\"error_x\": {\"color\": \"#2a3f5f\"}, \"error_y\": {\"color\": \"#2a3f5f\"}, \"marker\": {\"line\": {\"color\": \"#E5ECF6\", \"width\": 0.5}}, \"type\": \"bar\"}], \"barpolar\": [{\"marker\": {\"line\": {\"color\": \"#E5ECF6\", \"width\": 0.5}}, \"type\": \"barpolar\"}], \"carpet\": [{\"aaxis\": {\"endlinecolor\": \"#2a3f5f\", \"gridcolor\": \"white\", \"linecolor\": \"white\", \"minorgridcolor\": \"white\", \"startlinecolor\": \"#2a3f5f\"}, \"baxis\": {\"endlinecolor\": \"#2a3f5f\", \"gridcolor\": \"white\", \"linecolor\": \"white\", \"minorgridcolor\": \"white\", \"startlinecolor\": \"#2a3f5f\"}, \"type\": \"carpet\"}], \"choropleth\": [{\"colorbar\": {\"outlinewidth\": 0, \"ticks\": \"\"}, \"type\": \"choropleth\"}], \"contour\": [{\"colorbar\": {\"outlinewidth\": 0, \"ticks\": \"\"}, \"colorscale\": [[0.0, \"#0d0887\"], [0.1111111111111111, \"#46039f\"], [0.2222222222222222, \"#7201a8\"], [0.3333333333333333, \"#9c179e\"], [0.4444444444444444, \"#bd3786\"], [0.5555555555555556, \"#d8576b\"], [0.6666666666666666, \"#ed7953\"], [0.7777777777777778, \"#fb9f3a\"], [0.8888888888888888, \"#fdca26\"], [1.0, \"#f0f921\"]], \"type\": \"contour\"}], \"contourcarpet\": [{\"colorbar\": {\"outlinewidth\": 0, \"ticks\": \"\"}, \"type\": \"contourcarpet\"}], \"heatmap\": [{\"colorbar\": {\"outlinewidth\": 0, \"ticks\": \"\"}, \"colorscale\": [[0.0, \"#0d0887\"], [0.1111111111111111, \"#46039f\"], [0.2222222222222222, \"#7201a8\"], [0.3333333333333333, \"#9c179e\"], [0.4444444444444444, \"#bd3786\"], [0.5555555555555556, \"#d8576b\"], [0.6666666666666666, \"#ed7953\"], [0.7777777777777778, \"#fb9f3a\"], [0.8888888888888888, \"#fdca26\"], [1.0, \"#f0f921\"]], \"type\": \"heatmap\"}], \"heatmapgl\": [{\"colorbar\": {\"outlinewidth\": 0, \"ticks\": \"\"}, \"colorscale\": [[0.0, \"#0d0887\"], [0.1111111111111111, \"#46039f\"], [0.2222222222222222, \"#7201a8\"], [0.3333333333333333, \"#9c179e\"], [0.4444444444444444, \"#bd3786\"], [0.5555555555555556, \"#d8576b\"], [0.6666666666666666, \"#ed7953\"], [0.7777777777777778, \"#fb9f3a\"], [0.8888888888888888, \"#fdca26\"], [1.0, \"#f0f921\"]], \"type\": \"heatmapgl\"}], \"histogram\": [{\"marker\": {\"colorbar\": {\"outlinewidth\": 0, \"ticks\": \"\"}}, \"type\": \"histogram\"}], \"histogram2d\": [{\"colorbar\": {\"outlinewidth\": 0, \"ticks\": \"\"}, \"colorscale\": [[0.0, \"#0d0887\"], [0.1111111111111111, \"#46039f\"], [0.2222222222222222, \"#7201a8\"], [0.3333333333333333, \"#9c179e\"], [0.4444444444444444, \"#bd3786\"], [0.5555555555555556, \"#d8576b\"], [0.6666666666666666, \"#ed7953\"], [0.7777777777777778, \"#fb9f3a\"], [0.8888888888888888, \"#fdca26\"], [1.0, \"#f0f921\"]], \"type\": \"histogram2d\"}], \"histogram2dcontour\": [{\"colorbar\": {\"outlinewidth\": 0, \"ticks\": \"\"}, \"colorscale\": [[0.0, \"#0d0887\"], [0.1111111111111111, \"#46039f\"], [0.2222222222222222, \"#7201a8\"], [0.3333333333333333, \"#9c179e\"], [0.4444444444444444, \"#bd3786\"], [0.5555555555555556, \"#d8576b\"], [0.6666666666666666, \"#ed7953\"], [0.7777777777777778, \"#fb9f3a\"], [0.8888888888888888, \"#fdca26\"], [1.0, \"#f0f921\"]], \"type\": \"histogram2dcontour\"}], \"mesh3d\": [{\"colorbar\": {\"outlinewidth\": 0, \"ticks\": \"\"}, \"type\": \"mesh3d\"}], \"parcoords\": [{\"line\": {\"colorbar\": {\"outlinewidth\": 0, \"ticks\": \"\"}}, \"type\": \"parcoords\"}], \"pie\": [{\"automargin\": true, \"type\": \"pie\"}], \"scatter\": [{\"marker\": {\"colorbar\": {\"outlinewidth\": 0, \"ticks\": \"\"}}, \"type\": \"scatter\"}], \"scatter3d\": [{\"line\": {\"colorbar\": {\"outlinewidth\": 0, \"ticks\": \"\"}}, \"marker\": {\"colorbar\": {\"outlinewidth\": 0, \"ticks\": \"\"}}, \"type\": \"scatter3d\"}], \"scattercarpet\": [{\"marker\": {\"colorbar\": {\"outlinewidth\": 0, \"ticks\": \"\"}}, \"type\": \"scattercarpet\"}], \"scattergeo\": [{\"marker\": {\"colorbar\": {\"outlinewidth\": 0, \"ticks\": \"\"}}, \"type\": \"scattergeo\"}], \"scattergl\": [{\"marker\": {\"colorbar\": {\"outlinewidth\": 0, \"ticks\": \"\"}}, \"type\": \"scattergl\"}], \"scattermapbox\": [{\"marker\": {\"colorbar\": {\"outlinewidth\": 0, \"ticks\": \"\"}}, \"type\": \"scattermapbox\"}], \"scatterpolar\": [{\"marker\": {\"colorbar\": {\"outlinewidth\": 0, \"ticks\": \"\"}}, \"type\": \"scatterpolar\"}], \"scatterpolargl\": [{\"marker\": {\"colorbar\": {\"outlinewidth\": 0, \"ticks\": \"\"}}, \"type\": \"scatterpolargl\"}], \"scatterternary\": [{\"marker\": {\"colorbar\": {\"outlinewidth\": 0, \"ticks\": \"\"}}, \"type\": \"scatterternary\"}], \"surface\": [{\"colorbar\": {\"outlinewidth\": 0, \"ticks\": \"\"}, \"colorscale\": [[0.0, \"#0d0887\"], [0.1111111111111111, \"#46039f\"], [0.2222222222222222, \"#7201a8\"], [0.3333333333333333, \"#9c179e\"], [0.4444444444444444, \"#bd3786\"], [0.5555555555555556, \"#d8576b\"], [0.6666666666666666, \"#ed7953\"], [0.7777777777777778, \"#fb9f3a\"], [0.8888888888888888, \"#fdca26\"], [1.0, \"#f0f921\"]], \"type\": \"surface\"}], \"table\": [{\"cells\": {\"fill\": {\"color\": \"#EBF0F8\"}, \"line\": {\"color\": \"white\"}}, \"header\": {\"fill\": {\"color\": \"#C8D4E3\"}, \"line\": {\"color\": \"white\"}}, \"type\": \"table\"}]}, \"layout\": {\"annotationdefaults\": {\"arrowcolor\": \"#2a3f5f\", \"arrowhead\": 0, \"arrowwidth\": 1}, \"coloraxis\": {\"colorbar\": {\"outlinewidth\": 0, \"ticks\": \"\"}}, \"colorscale\": {\"diverging\": [[0, \"#8e0152\"], [0.1, \"#c51b7d\"], [0.2, \"#de77ae\"], [0.3, \"#f1b6da\"], [0.4, \"#fde0ef\"], [0.5, \"#f7f7f7\"], [0.6, \"#e6f5d0\"], [0.7, \"#b8e186\"], [0.8, \"#7fbc41\"], [0.9, \"#4d9221\"], [1, \"#276419\"]], \"sequential\": [[0.0, \"#0d0887\"], [0.1111111111111111, \"#46039f\"], [0.2222222222222222, \"#7201a8\"], [0.3333333333333333, \"#9c179e\"], [0.4444444444444444, \"#bd3786\"], [0.5555555555555556, \"#d8576b\"], [0.6666666666666666, \"#ed7953\"], [0.7777777777777778, \"#fb9f3a\"], [0.8888888888888888, \"#fdca26\"], [1.0, \"#f0f921\"]], \"sequentialminus\": [[0.0, \"#0d0887\"], [0.1111111111111111, \"#46039f\"], [0.2222222222222222, \"#7201a8\"], [0.3333333333333333, \"#9c179e\"], [0.4444444444444444, \"#bd3786\"], [0.5555555555555556, \"#d8576b\"], [0.6666666666666666, \"#ed7953\"], [0.7777777777777778, \"#fb9f3a\"], [0.8888888888888888, \"#fdca26\"], [1.0, \"#f0f921\"]]}, \"colorway\": [\"#636efa\", \"#EF553B\", \"#00cc96\", \"#ab63fa\", \"#FFA15A\", \"#19d3f3\", \"#FF6692\", \"#B6E880\", \"#FF97FF\", \"#FECB52\"], \"font\": {\"color\": \"#2a3f5f\"}, \"geo\": {\"bgcolor\": \"white\", \"lakecolor\": \"white\", \"landcolor\": \"#E5ECF6\", \"showlakes\": true, \"showland\": true, \"subunitcolor\": \"white\"}, \"hoverlabel\": {\"align\": \"left\"}, \"hovermode\": \"closest\", \"mapbox\": {\"style\": \"light\"}, \"paper_bgcolor\": \"white\", \"plot_bgcolor\": \"#E5ECF6\", \"polar\": {\"angularaxis\": {\"gridcolor\": \"white\", \"linecolor\": \"white\", \"ticks\": \"\"}, \"bgcolor\": \"#E5ECF6\", \"radialaxis\": {\"gridcolor\": \"white\", \"linecolor\": \"white\", \"ticks\": \"\"}}, \"scene\": {\"xaxis\": {\"backgroundcolor\": \"#E5ECF6\", \"gridcolor\": \"white\", \"gridwidth\": 2, \"linecolor\": \"white\", \"showbackground\": true, \"ticks\": \"\", \"zerolinecolor\": \"white\"}, \"yaxis\": {\"backgroundcolor\": \"#E5ECF6\", \"gridcolor\": \"white\", \"gridwidth\": 2, \"linecolor\": \"white\", \"showbackground\": true, \"ticks\": \"\", \"zerolinecolor\": \"white\"}, \"zaxis\": {\"backgroundcolor\": \"#E5ECF6\", \"gridcolor\": \"white\", \"gridwidth\": 2, \"linecolor\": \"white\", \"showbackground\": true, \"ticks\": \"\", \"zerolinecolor\": \"white\"}}, \"shapedefaults\": {\"line\": {\"color\": \"#2a3f5f\"}}, \"ternary\": {\"aaxis\": {\"gridcolor\": \"white\", \"linecolor\": \"white\", \"ticks\": \"\"}, \"baxis\": {\"gridcolor\": \"white\", \"linecolor\": \"white\", \"ticks\": \"\"}, \"bgcolor\": \"#E5ECF6\", \"caxis\": {\"gridcolor\": \"white\", \"linecolor\": \"white\", \"ticks\": \"\"}}, \"title\": {\"x\": 0.05}, \"xaxis\": {\"automargin\": true, \"gridcolor\": \"white\", \"linecolor\": \"white\", \"ticks\": \"\", \"title\": {\"standoff\": 15}, \"zerolinecolor\": \"white\", \"zerolinewidth\": 2}, \"yaxis\": {\"automargin\": true, \"gridcolor\": \"white\", \"linecolor\": \"white\", \"ticks\": \"\", \"title\": {\"standoff\": 15}, \"zerolinecolor\": \"white\", \"zerolinewidth\": 2}}}},                        {\"responsive\": true}                    ).then(function(){\n",
       "                            \n",
       "var gd = document.getElementById('b3193f37-7569-47d7-8235-2128cad4296a');\n",
       "var x = new MutationObserver(function (mutations, observer) {{\n",
       "        var display = window.getComputedStyle(gd).display;\n",
       "        if (!display || display === 'none') {{\n",
       "            console.log([gd, 'removed!']);\n",
       "            Plotly.purge(gd);\n",
       "            observer.disconnect();\n",
       "        }}\n",
       "}});\n",
       "\n",
       "// Listen for the removal of the full notebook cells\n",
       "var notebookContainer = gd.closest('#notebook-container');\n",
       "if (notebookContainer) {{\n",
       "    x.observe(notebookContainer, {childList: true});\n",
       "}}\n",
       "\n",
       "// Listen for the clearing of the current output cell\n",
       "var outputEl = gd.closest('.output');\n",
       "if (outputEl) {{\n",
       "    x.observe(outputEl, {childList: true});\n",
       "}}\n",
       "\n",
       "                        })                };                });            </script>        </div>"
      ]
     },
     "metadata": {},
     "output_type": "display_data"
    }
   ],
   "source": [
    "import plotly.express as px\n",
    "\n",
    "token = 'pk.eyJ1IjoibWRldGliZXJpaXMwMSIsImEiOiJja2YxZTVzOGcwdWk5MnFsZTBuczIwaTBwIn0.qR6X2tKxDsJZttJMxDiOnQ'\n",
    "\n",
    "px.set_mapbox_access_token(token)\n",
    "\n",
    "\n",
    "px.scatter_mapbox(df[df.group == 'citi'],lat='station_lat',lon='station_lon',color='group')\n",
    "px.scatter_mapbox(df[df.group == 'PATH'],lat='station_lat',lon='station_lon',color='group')\n",
    "\n",
    "px.scatter_mapbox(df,lat='station_lat',lon='station_lon',color='group')\n",
    "\n",
    "\n"
   ]
  }
 ],
 "metadata": {
  "kernelspec": {
   "display_name": "Python 3",
   "language": "python",
   "name": "python3"
  },
  "language_info": {
   "codemirror_mode": {
    "name": "ipython",
    "version": 3
   },
   "file_extension": ".py",
   "mimetype": "text/x-python",
   "name": "python",
   "nbconvert_exporter": "python",
   "pygments_lexer": "ipython3",
   "version": "3.8.3"
  }
 },
 "nbformat": 4,
 "nbformat_minor": 4
}
